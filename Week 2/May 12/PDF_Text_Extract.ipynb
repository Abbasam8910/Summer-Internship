{
 "cells": [
  {
   "cell_type": "markdown",
   "id": "2978effd",
   "metadata": {},
   "source": [
    "Implement extract_pdf_text(filepath) using PyMuPDF"
   ]
  },
  {
   "cell_type": "code",
   "execution_count": null,
   "id": "c4cc0c9e",
   "metadata": {},
   "outputs": [],
   "source": [
    "pip install pymupdf"
   ]
  },
  {
   "cell_type": "code",
   "execution_count": 6,
   "id": "37da0279",
   "metadata": {},
   "outputs": [
    {
     "name": "stdout",
     "output_type": "stream",
     "text": [
      "The pdf extracted text are:\n",
      " Dummy PDF file\n",
      "What is Lorem Ipsum?\n",
      "Lorem Ipsum is simply dummy text of the printing and typesetting \n",
      "industry. Lorem Ipsum has been the industry's standard dummy text \n",
      "ever since the 1500s, when an unknown printer took a galley of type \n",
      "and scrambled it to make a type specimen book. It has survived not \n",
      "only five centuries, but also the leap into electronic typesetting, \n",
      "remaining essentially unchanged. It was popularised in the 1960s \n",
      "with the release of Letraset sheets containing Lorem Ipsum \n",
      "passages, and more recently with desktop publishing software like \n",
      "Aldus PageMaker including versions of Lorem Ipsum.\n",
      "\n"
     ]
    }
   ],
   "source": [
    "import pymupdf  # PyMuPDF\n",
    "\n",
    "def extract_pdf_text(filepath):\n",
    "    # Open the PDF document\n",
    "    with pymupdf.open(filepath) as doc:\n",
    "        # Extract text from each page and join with form feed character (page break)\n",
    "        all_text = chr(12).join([page.get_text() for page in doc])\n",
    "    return all_text\n",
    "\n",
    "pdf_text = extract_pdf_text(\"./dummy.pdf\")\n",
    "print(\"The pdf extracted text are:\\n\",pdf_text)"
   ]
  },
  {
   "cell_type": "code",
   "execution_count": null,
   "id": "46e9afed",
   "metadata": {},
   "outputs": [],
   "source": []
  }
 ],
 "metadata": {
  "kernelspec": {
   "display_name": ".venv",
   "language": "python",
   "name": "python3"
  },
  "language_info": {
   "codemirror_mode": {
    "name": "ipython",
    "version": 3
   },
   "file_extension": ".py",
   "mimetype": "text/x-python",
   "name": "python",
   "nbconvert_exporter": "python",
   "pygments_lexer": "ipython3",
   "version": "3.12.4"
  }
 },
 "nbformat": 4,
 "nbformat_minor": 5
}
