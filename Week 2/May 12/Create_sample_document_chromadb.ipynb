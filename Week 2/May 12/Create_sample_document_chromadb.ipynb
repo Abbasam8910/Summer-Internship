{
 "cells": [
  {
   "cell_type": "code",
   "execution_count": 6,
   "id": "1919127a",
   "metadata": {},
   "outputs": [
    {
     "name": "stdout",
     "output_type": "stream",
     "text": [
      "Requirement already satisfied: chromadb in d:\\# my learning\\coding\\summer-internship\\.venv\\lib\\site-packages (1.0.9)\n",
      "Requirement already satisfied: build>=1.0.3 in d:\\# my learning\\coding\\summer-internship\\.venv\\lib\\site-packages (from chromadb) (1.2.2.post1)\n",
      "Requirement already satisfied: pydantic>=1.9 in d:\\# my learning\\coding\\summer-internship\\.venv\\lib\\site-packages (from chromadb) (2.11.4)\n",
      "Requirement already satisfied: fastapi==0.115.9 in d:\\# my learning\\coding\\summer-internship\\.venv\\lib\\site-packages (from chromadb) (0.115.9)\n",
      "Requirement already satisfied: uvicorn>=0.18.3 in d:\\# my learning\\coding\\summer-internship\\.venv\\lib\\site-packages (from uvicorn[standard]>=0.18.3->chromadb) (0.34.2)\n",
      "Requirement already satisfied: numpy>=1.22.5 in d:\\# my learning\\coding\\summer-internship\\.venv\\lib\\site-packages (from chromadb) (2.2.5)\n",
      "Requirement already satisfied: posthog>=2.4.0 in d:\\# my learning\\coding\\summer-internship\\.venv\\lib\\site-packages (from chromadb) (4.0.1)\n",
      "Requirement already satisfied: typing-extensions>=4.5.0 in d:\\# my learning\\coding\\summer-internship\\.venv\\lib\\site-packages (from chromadb) (4.13.2)\n",
      "Requirement already satisfied: onnxruntime>=1.14.1 in d:\\# my learning\\coding\\summer-internship\\.venv\\lib\\site-packages (from chromadb) (1.22.0)\n",
      "Requirement already satisfied: opentelemetry-api>=1.2.0 in d:\\# my learning\\coding\\summer-internship\\.venv\\lib\\site-packages (from chromadb) (1.33.0)\n",
      "Requirement already satisfied: opentelemetry-exporter-otlp-proto-grpc>=1.2.0 in d:\\# my learning\\coding\\summer-internship\\.venv\\lib\\site-packages (from chromadb) (1.33.0)\n",
      "Requirement already satisfied: opentelemetry-instrumentation-fastapi>=0.41b0 in d:\\# my learning\\coding\\summer-internship\\.venv\\lib\\site-packages (from chromadb) (0.54b0)\n",
      "Requirement already satisfied: opentelemetry-sdk>=1.2.0 in d:\\# my learning\\coding\\summer-internship\\.venv\\lib\\site-packages (from chromadb) (1.33.0)\n",
      "Requirement already satisfied: tokenizers>=0.13.2 in d:\\# my learning\\coding\\summer-internship\\.venv\\lib\\site-packages (from chromadb) (0.21.1)\n",
      "Requirement already satisfied: pypika>=0.48.9 in d:\\# my learning\\coding\\summer-internship\\.venv\\lib\\site-packages (from chromadb) (0.48.9)\n",
      "Requirement already satisfied: tqdm>=4.65.0 in d:\\# my learning\\coding\\summer-internship\\.venv\\lib\\site-packages (from chromadb) (4.67.1)\n",
      "Requirement already satisfied: overrides>=7.3.1 in d:\\# my learning\\coding\\summer-internship\\.venv\\lib\\site-packages (from chromadb) (7.7.0)\n",
      "Requirement already satisfied: importlib-resources in d:\\# my learning\\coding\\summer-internship\\.venv\\lib\\site-packages (from chromadb) (6.5.2)\n",
      "Requirement already satisfied: grpcio>=1.58.0 in d:\\# my learning\\coding\\summer-internship\\.venv\\lib\\site-packages (from chromadb) (1.71.0)\n",
      "Requirement already satisfied: bcrypt>=4.0.1 in d:\\# my learning\\coding\\summer-internship\\.venv\\lib\\site-packages (from chromadb) (4.3.0)\n",
      "Requirement already satisfied: typer>=0.9.0 in d:\\# my learning\\coding\\summer-internship\\.venv\\lib\\site-packages (from chromadb) (0.15.4)\n",
      "Requirement already satisfied: kubernetes>=28.1.0 in d:\\# my learning\\coding\\summer-internship\\.venv\\lib\\site-packages (from chromadb) (32.0.1)\n",
      "Requirement already satisfied: tenacity>=8.2.3 in d:\\# my learning\\coding\\summer-internship\\.venv\\lib\\site-packages (from chromadb) (9.1.2)\n",
      "Requirement already satisfied: pyyaml>=6.0.0 in d:\\# my learning\\coding\\summer-internship\\.venv\\lib\\site-packages (from chromadb) (6.0.2)\n",
      "Requirement already satisfied: mmh3>=4.0.1 in d:\\# my learning\\coding\\summer-internship\\.venv\\lib\\site-packages (from chromadb) (5.1.0)\n",
      "Requirement already satisfied: orjson>=3.9.12 in d:\\# my learning\\coding\\summer-internship\\.venv\\lib\\site-packages (from chromadb) (3.10.18)\n",
      "Requirement already satisfied: httpx>=0.27.0 in d:\\# my learning\\coding\\summer-internship\\.venv\\lib\\site-packages (from chromadb) (0.28.1)\n",
      "Requirement already satisfied: rich>=10.11.0 in d:\\# my learning\\coding\\summer-internship\\.venv\\lib\\site-packages (from chromadb) (14.0.0)\n",
      "Requirement already satisfied: jsonschema>=4.19.0 in d:\\# my learning\\coding\\summer-internship\\.venv\\lib\\site-packages (from chromadb) (4.23.0)\n",
      "Requirement already satisfied: starlette<0.46.0,>=0.40.0 in d:\\# my learning\\coding\\summer-internship\\.venv\\lib\\site-packages (from fastapi==0.115.9->chromadb) (0.45.3)\n",
      "Requirement already satisfied: annotated-types>=0.6.0 in d:\\# my learning\\coding\\summer-internship\\.venv\\lib\\site-packages (from pydantic>=1.9->chromadb) (0.7.0)\n",
      "Requirement already satisfied: pydantic-core==2.33.2 in d:\\# my learning\\coding\\summer-internship\\.venv\\lib\\site-packages (from pydantic>=1.9->chromadb) (2.33.2)\n",
      "Requirement already satisfied: typing-inspection>=0.4.0 in d:\\# my learning\\coding\\summer-internship\\.venv\\lib\\site-packages (from pydantic>=1.9->chromadb) (0.4.0)\n",
      "Requirement already satisfied: anyio<5,>=3.6.2 in d:\\# my learning\\coding\\summer-internship\\.venv\\lib\\site-packages (from starlette<0.46.0,>=0.40.0->fastapi==0.115.9->chromadb) (4.9.0)\n",
      "Requirement already satisfied: idna>=2.8 in d:\\# my learning\\coding\\summer-internship\\.venv\\lib\\site-packages (from anyio<5,>=3.6.2->starlette<0.46.0,>=0.40.0->fastapi==0.115.9->chromadb) (3.10)\n",
      "Requirement already satisfied: sniffio>=1.1 in d:\\# my learning\\coding\\summer-internship\\.venv\\lib\\site-packages (from anyio<5,>=3.6.2->starlette<0.46.0,>=0.40.0->fastapi==0.115.9->chromadb) (1.3.1)\n",
      "Requirement already satisfied: packaging>=19.1 in d:\\# my learning\\coding\\summer-internship\\.venv\\lib\\site-packages (from build>=1.0.3->chromadb) (25.0)\n",
      "Requirement already satisfied: pyproject_hooks in d:\\# my learning\\coding\\summer-internship\\.venv\\lib\\site-packages (from build>=1.0.3->chromadb) (1.2.0)\n",
      "Requirement already satisfied: colorama in d:\\# my learning\\coding\\summer-internship\\.venv\\lib\\site-packages (from build>=1.0.3->chromadb) (0.4.6)\n",
      "Requirement already satisfied: certifi in d:\\# my learning\\coding\\summer-internship\\.venv\\lib\\site-packages (from httpx>=0.27.0->chromadb) (2025.4.26)\n",
      "Requirement already satisfied: httpcore==1.* in d:\\# my learning\\coding\\summer-internship\\.venv\\lib\\site-packages (from httpx>=0.27.0->chromadb) (1.0.9)\n",
      "Requirement already satisfied: h11>=0.16 in d:\\# my learning\\coding\\summer-internship\\.venv\\lib\\site-packages (from httpcore==1.*->httpx>=0.27.0->chromadb) (0.16.0)\n",
      "Requirement already satisfied: attrs>=22.2.0 in d:\\# my learning\\coding\\summer-internship\\.venv\\lib\\site-packages (from jsonschema>=4.19.0->chromadb) (25.3.0)\n",
      "Requirement already satisfied: jsonschema-specifications>=2023.03.6 in d:\\# my learning\\coding\\summer-internship\\.venv\\lib\\site-packages (from jsonschema>=4.19.0->chromadb) (2025.4.1)\n",
      "Requirement already satisfied: referencing>=0.28.4 in d:\\# my learning\\coding\\summer-internship\\.venv\\lib\\site-packages (from jsonschema>=4.19.0->chromadb) (0.36.2)\n",
      "Requirement already satisfied: rpds-py>=0.7.1 in d:\\# my learning\\coding\\summer-internship\\.venv\\lib\\site-packages (from jsonschema>=4.19.0->chromadb) (0.24.0)\n",
      "Requirement already satisfied: six>=1.9.0 in d:\\# my learning\\coding\\summer-internship\\.venv\\lib\\site-packages (from kubernetes>=28.1.0->chromadb) (1.17.0)\n",
      "Requirement already satisfied: python-dateutil>=2.5.3 in d:\\# my learning\\coding\\summer-internship\\.venv\\lib\\site-packages (from kubernetes>=28.1.0->chromadb) (2.9.0.post0)\n",
      "Requirement already satisfied: google-auth>=1.0.1 in d:\\# my learning\\coding\\summer-internship\\.venv\\lib\\site-packages (from kubernetes>=28.1.0->chromadb) (2.40.1)\n",
      "Requirement already satisfied: websocket-client!=0.40.0,!=0.41.*,!=0.42.*,>=0.32.0 in d:\\# my learning\\coding\\summer-internship\\.venv\\lib\\site-packages (from kubernetes>=28.1.0->chromadb) (1.8.0)\n",
      "Requirement already satisfied: requests in d:\\# my learning\\coding\\summer-internship\\.venv\\lib\\site-packages (from kubernetes>=28.1.0->chromadb) (2.32.3)\n",
      "Requirement already satisfied: requests-oauthlib in d:\\# my learning\\coding\\summer-internship\\.venv\\lib\\site-packages (from kubernetes>=28.1.0->chromadb) (2.0.0)\n",
      "Requirement already satisfied: oauthlib>=3.2.2 in d:\\# my learning\\coding\\summer-internship\\.venv\\lib\\site-packages (from kubernetes>=28.1.0->chromadb) (3.2.2)\n",
      "Requirement already satisfied: urllib3>=1.24.2 in d:\\# my learning\\coding\\summer-internship\\.venv\\lib\\site-packages (from kubernetes>=28.1.0->chromadb) (2.4.0)\n",
      "Requirement already satisfied: durationpy>=0.7 in d:\\# my learning\\coding\\summer-internship\\.venv\\lib\\site-packages (from kubernetes>=28.1.0->chromadb) (0.9)\n",
      "Requirement already satisfied: cachetools<6.0,>=2.0.0 in d:\\# my learning\\coding\\summer-internship\\.venv\\lib\\site-packages (from google-auth>=1.0.1->kubernetes>=28.1.0->chromadb) (5.5.2)\n",
      "Requirement already satisfied: pyasn1-modules>=0.2.1 in d:\\# my learning\\coding\\summer-internship\\.venv\\lib\\site-packages (from google-auth>=1.0.1->kubernetes>=28.1.0->chromadb) (0.4.2)\n",
      "Requirement already satisfied: rsa<5,>=3.1.4 in d:\\# my learning\\coding\\summer-internship\\.venv\\lib\\site-packages (from google-auth>=1.0.1->kubernetes>=28.1.0->chromadb) (4.9.1)\n",
      "Requirement already satisfied: pyasn1>=0.1.3 in d:\\# my learning\\coding\\summer-internship\\.venv\\lib\\site-packages (from rsa<5,>=3.1.4->google-auth>=1.0.1->kubernetes>=28.1.0->chromadb) (0.6.1)\n",
      "Requirement already satisfied: coloredlogs in d:\\# my learning\\coding\\summer-internship\\.venv\\lib\\site-packages (from onnxruntime>=1.14.1->chromadb) (15.0.1)\n",
      "Requirement already satisfied: flatbuffers in d:\\# my learning\\coding\\summer-internship\\.venv\\lib\\site-packages (from onnxruntime>=1.14.1->chromadb) (25.2.10)\n",
      "Requirement already satisfied: protobuf in d:\\# my learning\\coding\\summer-internship\\.venv\\lib\\site-packages (from onnxruntime>=1.14.1->chromadb) (5.29.4)\n",
      "Requirement already satisfied: sympy in d:\\# my learning\\coding\\summer-internship\\.venv\\lib\\site-packages (from onnxruntime>=1.14.1->chromadb) (1.14.0)\n",
      "Requirement already satisfied: deprecated>=1.2.6 in d:\\# my learning\\coding\\summer-internship\\.venv\\lib\\site-packages (from opentelemetry-api>=1.2.0->chromadb) (1.2.18)\n",
      "Requirement already satisfied: importlib-metadata<8.7.0,>=6.0 in d:\\# my learning\\coding\\summer-internship\\.venv\\lib\\site-packages (from opentelemetry-api>=1.2.0->chromadb) (8.6.1)\n",
      "Requirement already satisfied: zipp>=3.20 in d:\\# my learning\\coding\\summer-internship\\.venv\\lib\\site-packages (from importlib-metadata<8.7.0,>=6.0->opentelemetry-api>=1.2.0->chromadb) (3.21.0)\n",
      "Requirement already satisfied: wrapt<2,>=1.10 in d:\\# my learning\\coding\\summer-internship\\.venv\\lib\\site-packages (from deprecated>=1.2.6->opentelemetry-api>=1.2.0->chromadb) (1.17.2)\n",
      "Requirement already satisfied: googleapis-common-protos~=1.52 in d:\\# my learning\\coding\\summer-internship\\.venv\\lib\\site-packages (from opentelemetry-exporter-otlp-proto-grpc>=1.2.0->chromadb) (1.70.0)\n",
      "Requirement already satisfied: opentelemetry-exporter-otlp-proto-common==1.33.0 in d:\\# my learning\\coding\\summer-internship\\.venv\\lib\\site-packages (from opentelemetry-exporter-otlp-proto-grpc>=1.2.0->chromadb) (1.33.0)\n",
      "Requirement already satisfied: opentelemetry-proto==1.33.0 in d:\\# my learning\\coding\\summer-internship\\.venv\\lib\\site-packages (from opentelemetry-exporter-otlp-proto-grpc>=1.2.0->chromadb) (1.33.0)\n",
      "Requirement already satisfied: opentelemetry-semantic-conventions==0.54b0 in d:\\# my learning\\coding\\summer-internship\\.venv\\lib\\site-packages (from opentelemetry-sdk>=1.2.0->chromadb) (0.54b0)\n",
      "Requirement already satisfied: opentelemetry-instrumentation-asgi==0.54b0 in d:\\# my learning\\coding\\summer-internship\\.venv\\lib\\site-packages (from opentelemetry-instrumentation-fastapi>=0.41b0->chromadb) (0.54b0)\n",
      "Requirement already satisfied: opentelemetry-instrumentation==0.54b0 in d:\\# my learning\\coding\\summer-internship\\.venv\\lib\\site-packages (from opentelemetry-instrumentation-fastapi>=0.41b0->chromadb) (0.54b0)\n",
      "Requirement already satisfied: opentelemetry-util-http==0.54b0 in d:\\# my learning\\coding\\summer-internship\\.venv\\lib\\site-packages (from opentelemetry-instrumentation-fastapi>=0.41b0->chromadb) (0.54b0)\n",
      "Requirement already satisfied: asgiref~=3.0 in d:\\# my learning\\coding\\summer-internship\\.venv\\lib\\site-packages (from opentelemetry-instrumentation-asgi==0.54b0->opentelemetry-instrumentation-fastapi>=0.41b0->chromadb) (3.8.1)\n",
      "Requirement already satisfied: backoff>=1.10.0 in d:\\# my learning\\coding\\summer-internship\\.venv\\lib\\site-packages (from posthog>=2.4.0->chromadb) (2.2.1)\n",
      "Requirement already satisfied: distro>=1.5.0 in d:\\# my learning\\coding\\summer-internship\\.venv\\lib\\site-packages (from posthog>=2.4.0->chromadb) (1.9.0)\n",
      "Requirement already satisfied: charset-normalizer<4,>=2 in d:\\# my learning\\coding\\summer-internship\\.venv\\lib\\site-packages (from requests->kubernetes>=28.1.0->chromadb) (3.4.2)\n",
      "Requirement already satisfied: markdown-it-py>=2.2.0 in d:\\# my learning\\coding\\summer-internship\\.venv\\lib\\site-packages (from rich>=10.11.0->chromadb) (3.0.0)\n",
      "Requirement already satisfied: pygments<3.0.0,>=2.13.0 in d:\\# my learning\\coding\\summer-internship\\.venv\\lib\\site-packages (from rich>=10.11.0->chromadb) (2.19.1)\n",
      "Requirement already satisfied: mdurl~=0.1 in d:\\# my learning\\coding\\summer-internship\\.venv\\lib\\site-packages (from markdown-it-py>=2.2.0->rich>=10.11.0->chromadb) (0.1.2)\n",
      "Requirement already satisfied: huggingface-hub<1.0,>=0.16.4 in d:\\# my learning\\coding\\summer-internship\\.venv\\lib\\site-packages (from tokenizers>=0.13.2->chromadb) (0.31.2)\n",
      "Requirement already satisfied: filelock in d:\\# my learning\\coding\\summer-internship\\.venv\\lib\\site-packages (from huggingface-hub<1.0,>=0.16.4->tokenizers>=0.13.2->chromadb) (3.18.0)\n",
      "Requirement already satisfied: fsspec>=2023.5.0 in d:\\# my learning\\coding\\summer-internship\\.venv\\lib\\site-packages (from huggingface-hub<1.0,>=0.16.4->tokenizers>=0.13.2->chromadb) (2025.3.2)\n",
      "Requirement already satisfied: click<8.2,>=8.0.0 in d:\\# my learning\\coding\\summer-internship\\.venv\\lib\\site-packages (from typer>=0.9.0->chromadb) (8.1.8)\n",
      "Requirement already satisfied: shellingham>=1.3.0 in d:\\# my learning\\coding\\summer-internship\\.venv\\lib\\site-packages (from typer>=0.9.0->chromadb) (1.5.4)\n",
      "Requirement already satisfied: httptools>=0.6.3 in d:\\# my learning\\coding\\summer-internship\\.venv\\lib\\site-packages (from uvicorn[standard]>=0.18.3->chromadb) (0.6.4)\n",
      "Requirement already satisfied: python-dotenv>=0.13 in d:\\# my learning\\coding\\summer-internship\\.venv\\lib\\site-packages (from uvicorn[standard]>=0.18.3->chromadb) (1.1.0)\n",
      "Requirement already satisfied: watchfiles>=0.13 in d:\\# my learning\\coding\\summer-internship\\.venv\\lib\\site-packages (from uvicorn[standard]>=0.18.3->chromadb) (1.0.5)\n",
      "Requirement already satisfied: websockets>=10.4 in d:\\# my learning\\coding\\summer-internship\\.venv\\lib\\site-packages (from uvicorn[standard]>=0.18.3->chromadb) (15.0.1)\n",
      "Requirement already satisfied: humanfriendly>=9.1 in d:\\# my learning\\coding\\summer-internship\\.venv\\lib\\site-packages (from coloredlogs->onnxruntime>=1.14.1->chromadb) (10.0)\n",
      "Requirement already satisfied: pyreadline3 in d:\\# my learning\\coding\\summer-internship\\.venv\\lib\\site-packages (from humanfriendly>=9.1->coloredlogs->onnxruntime>=1.14.1->chromadb) (3.5.4)\n",
      "Requirement already satisfied: mpmath<1.4,>=1.1.0 in d:\\# my learning\\coding\\summer-internship\\.venv\\lib\\site-packages (from sympy->onnxruntime>=1.14.1->chromadb) (1.3.0)\n",
      "Note: you may need to restart the kernel to use updated packages.\n"
     ]
    }
   ],
   "source": [
    "pip install chromadb\n"
   ]
  },
  {
   "cell_type": "code",
   "execution_count": 7,
   "id": "221730c9",
   "metadata": {},
   "outputs": [],
   "source": [
    "import chromadb\n",
    "from chromadb.config import Settings"
   ]
  },
  {
   "cell_type": "code",
   "execution_count": 8,
   "id": "6c72a710",
   "metadata": {},
   "outputs": [],
   "source": [
    "# Step 1: Create a ChromaDB client instance with default settings\n",
    "client = chromadb.Client(Settings())"
   ]
  },
  {
   "cell_type": "code",
   "execution_count": 10,
   "id": "1c02c092",
   "metadata": {},
   "outputs": [],
   "source": [
    "# Step 2: Create a collection (like a table in a database)\n",
    "collection = client.get_or_create_collection(name=\"sample_collection\")"
   ]
  },
  {
   "cell_type": "code",
   "execution_count": 11,
   "id": "21963590",
   "metadata": {},
   "outputs": [],
   "source": [
    "# Step 3: Add a sample document to the collection\n",
    "collection.add(\n",
    "    documents=[\"This is a test document about AI and databases.\"],\n",
    "    metadatas=[{\"source\": \"test_script\"}],\n",
    "    ids=[\"doc1\"]\n",
    ")"
   ]
  },
  {
   "cell_type": "code",
   "execution_count": 12,
   "id": "e2fc68a7",
   "metadata": {},
   "outputs": [
    {
     "name": "stdout",
     "output_type": "stream",
     "text": [
      "Query Results: {'ids': [['doc1']], 'embeddings': None, 'documents': [['This is a test document about AI and databases.']], 'uris': None, 'included': ['metadatas', 'documents', 'distances'], 'data': None, 'metadatas': [[{'source': 'test_script'}]], 'distances': [[0.5832966566085815]]}\n"
     ]
    }
   ],
   "source": [
    "\n",
    "# Step 4 (optional): Query the document for similarity\n",
    "results = collection.query(\n",
    "    query_texts=[\"AI databases\"],\n",
    "    n_results=1\n",
    ")\n",
    "\n",
    "print(\"Query Results:\", results)"
   ]
  }
 ],
 "metadata": {
  "kernelspec": {
   "display_name": ".venv",
   "language": "python",
   "name": "python3"
  },
  "language_info": {
   "codemirror_mode": {
    "name": "ipython",
    "version": 3
   },
   "file_extension": ".py",
   "mimetype": "text/x-python",
   "name": "python",
   "nbconvert_exporter": "python",
   "pygments_lexer": "ipython3",
   "version": "3.12.4"
  }
 },
 "nbformat": 4,
 "nbformat_minor": 5
}
