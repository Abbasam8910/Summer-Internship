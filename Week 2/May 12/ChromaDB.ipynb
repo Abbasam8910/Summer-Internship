{
 "cells": [
  {
   "cell_type": "markdown",
   "id": "01d8b8ae",
   "metadata": {},
   "source": [
    "<h3> ChromaDB Crash Course</h3>"
   ]
  },
  {
   "cell_type": "markdown",
   "id": "1d0999ce",
   "metadata": {},
   "source": [
    "<p style=\"font-size:16px\"> ChromaDB is a vector database that automatically computes and stores embeddings for text data. When a query is made, it compares the embeddings using distance metrics and returns the most relevant results.</p>"
   ]
  },
  {
   "cell_type": "code",
   "execution_count": 4,
   "id": "2ae562f0",
   "metadata": {},
   "outputs": [
    {
     "name": "stdout",
     "output_type": "stream",
     "text": [
      "Requirement already satisfied: chromadb in d:\\# my learning\\coding\\summer-internship\\.venv\\lib\\site-packages (1.0.9)\n",
      "Requirement already satisfied: build>=1.0.3 in d:\\# my learning\\coding\\summer-internship\\.venv\\lib\\site-packages (from chromadb) (1.2.2.post1)\n",
      "Requirement already satisfied: pydantic>=1.9 in d:\\# my learning\\coding\\summer-internship\\.venv\\lib\\site-packages (from chromadb) (2.11.4)\n",
      "Requirement already satisfied: fastapi==0.115.9 in d:\\# my learning\\coding\\summer-internship\\.venv\\lib\\site-packages (from chromadb) (0.115.9)\n",
      "Requirement already satisfied: uvicorn>=0.18.3 in d:\\# my learning\\coding\\summer-internship\\.venv\\lib\\site-packages (from uvicorn[standard]>=0.18.3->chromadb) (0.34.2)\n",
      "Requirement already satisfied: numpy>=1.22.5 in d:\\# my learning\\coding\\summer-internship\\.venv\\lib\\site-packages (from chromadb) (2.2.5)\n",
      "Requirement already satisfied: posthog>=2.4.0 in d:\\# my learning\\coding\\summer-internship\\.venv\\lib\\site-packages (from chromadb) (4.0.1)\n",
      "Requirement already satisfied: typing-extensions>=4.5.0 in d:\\# my learning\\coding\\summer-internship\\.venv\\lib\\site-packages (from chromadb) (4.13.2)\n",
      "Requirement already satisfied: onnxruntime>=1.14.1 in d:\\# my learning\\coding\\summer-internship\\.venv\\lib\\site-packages (from chromadb) (1.22.0)\n",
      "Requirement already satisfied: opentelemetry-api>=1.2.0 in d:\\# my learning\\coding\\summer-internship\\.venv\\lib\\site-packages (from chromadb) (1.33.0)\n",
      "Requirement already satisfied: opentelemetry-exporter-otlp-proto-grpc>=1.2.0 in d:\\# my learning\\coding\\summer-internship\\.venv\\lib\\site-packages (from chromadb) (1.33.0)\n",
      "Requirement already satisfied: opentelemetry-instrumentation-fastapi>=0.41b0 in d:\\# my learning\\coding\\summer-internship\\.venv\\lib\\site-packages (from chromadb) (0.54b0)\n",
      "Requirement already satisfied: opentelemetry-sdk>=1.2.0 in d:\\# my learning\\coding\\summer-internship\\.venv\\lib\\site-packages (from chromadb) (1.33.0)\n",
      "Requirement already satisfied: tokenizers>=0.13.2 in d:\\# my learning\\coding\\summer-internship\\.venv\\lib\\site-packages (from chromadb) (0.21.1)\n",
      "Requirement already satisfied: pypika>=0.48.9 in d:\\# my learning\\coding\\summer-internship\\.venv\\lib\\site-packages (from chromadb) (0.48.9)\n",
      "Requirement already satisfied: tqdm>=4.65.0 in d:\\# my learning\\coding\\summer-internship\\.venv\\lib\\site-packages (from chromadb) (4.67.1)\n",
      "Requirement already satisfied: overrides>=7.3.1 in d:\\# my learning\\coding\\summer-internship\\.venv\\lib\\site-packages (from chromadb) (7.7.0)\n",
      "Requirement already satisfied: importlib-resources in d:\\# my learning\\coding\\summer-internship\\.venv\\lib\\site-packages (from chromadb) (6.5.2)\n",
      "Requirement already satisfied: grpcio>=1.58.0 in d:\\# my learning\\coding\\summer-internship\\.venv\\lib\\site-packages (from chromadb) (1.71.0)\n",
      "Requirement already satisfied: bcrypt>=4.0.1 in d:\\# my learning\\coding\\summer-internship\\.venv\\lib\\site-packages (from chromadb) (4.3.0)\n",
      "Requirement already satisfied: typer>=0.9.0 in d:\\# my learning\\coding\\summer-internship\\.venv\\lib\\site-packages (from chromadb) (0.15.4)\n",
      "Requirement already satisfied: kubernetes>=28.1.0 in d:\\# my learning\\coding\\summer-internship\\.venv\\lib\\site-packages (from chromadb) (32.0.1)\n",
      "Requirement already satisfied: tenacity>=8.2.3 in d:\\# my learning\\coding\\summer-internship\\.venv\\lib\\site-packages (from chromadb) (9.1.2)\n",
      "Requirement already satisfied: pyyaml>=6.0.0 in d:\\# my learning\\coding\\summer-internship\\.venv\\lib\\site-packages (from chromadb) (6.0.2)\n",
      "Requirement already satisfied: mmh3>=4.0.1 in d:\\# my learning\\coding\\summer-internship\\.venv\\lib\\site-packages (from chromadb) (5.1.0)\n",
      "Requirement already satisfied: orjson>=3.9.12 in d:\\# my learning\\coding\\summer-internship\\.venv\\lib\\site-packages (from chromadb) (3.10.18)\n",
      "Requirement already satisfied: httpx>=0.27.0 in d:\\# my learning\\coding\\summer-internship\\.venv\\lib\\site-packages (from chromadb) (0.28.1)\n",
      "Requirement already satisfied: rich>=10.11.0 in d:\\# my learning\\coding\\summer-internship\\.venv\\lib\\site-packages (from chromadb) (14.0.0)\n",
      "Requirement already satisfied: jsonschema>=4.19.0 in d:\\# my learning\\coding\\summer-internship\\.venv\\lib\\site-packages (from chromadb) (4.23.0)\n",
      "Requirement already satisfied: starlette<0.46.0,>=0.40.0 in d:\\# my learning\\coding\\summer-internship\\.venv\\lib\\site-packages (from fastapi==0.115.9->chromadb) (0.45.3)\n",
      "Requirement already satisfied: annotated-types>=0.6.0 in d:\\# my learning\\coding\\summer-internship\\.venv\\lib\\site-packages (from pydantic>=1.9->chromadb) (0.7.0)\n",
      "Requirement already satisfied: pydantic-core==2.33.2 in d:\\# my learning\\coding\\summer-internship\\.venv\\lib\\site-packages (from pydantic>=1.9->chromadb) (2.33.2)\n",
      "Requirement already satisfied: typing-inspection>=0.4.0 in d:\\# my learning\\coding\\summer-internship\\.venv\\lib\\site-packages (from pydantic>=1.9->chromadb) (0.4.0)\n",
      "Requirement already satisfied: anyio<5,>=3.6.2 in d:\\# my learning\\coding\\summer-internship\\.venv\\lib\\site-packages (from starlette<0.46.0,>=0.40.0->fastapi==0.115.9->chromadb) (4.9.0)\n",
      "Requirement already satisfied: idna>=2.8 in d:\\# my learning\\coding\\summer-internship\\.venv\\lib\\site-packages (from anyio<5,>=3.6.2->starlette<0.46.0,>=0.40.0->fastapi==0.115.9->chromadb) (3.10)\n",
      "Requirement already satisfied: sniffio>=1.1 in d:\\# my learning\\coding\\summer-internship\\.venv\\lib\\site-packages (from anyio<5,>=3.6.2->starlette<0.46.0,>=0.40.0->fastapi==0.115.9->chromadb) (1.3.1)\n",
      "Requirement already satisfied: packaging>=19.1 in d:\\# my learning\\coding\\summer-internship\\.venv\\lib\\site-packages (from build>=1.0.3->chromadb) (25.0)\n",
      "Requirement already satisfied: pyproject_hooks in d:\\# my learning\\coding\\summer-internship\\.venv\\lib\\site-packages (from build>=1.0.3->chromadb) (1.2.0)\n",
      "Requirement already satisfied: colorama in d:\\# my learning\\coding\\summer-internship\\.venv\\lib\\site-packages (from build>=1.0.3->chromadb) (0.4.6)\n",
      "Requirement already satisfied: certifi in d:\\# my learning\\coding\\summer-internship\\.venv\\lib\\site-packages (from httpx>=0.27.0->chromadb) (2025.4.26)\n",
      "Requirement already satisfied: httpcore==1.* in d:\\# my learning\\coding\\summer-internship\\.venv\\lib\\site-packages (from httpx>=0.27.0->chromadb) (1.0.9)\n",
      "Requirement already satisfied: h11>=0.16 in d:\\# my learning\\coding\\summer-internship\\.venv\\lib\\site-packages (from httpcore==1.*->httpx>=0.27.0->chromadb) (0.16.0)\n",
      "Requirement already satisfied: attrs>=22.2.0 in d:\\# my learning\\coding\\summer-internship\\.venv\\lib\\site-packages (from jsonschema>=4.19.0->chromadb) (25.3.0)\n",
      "Requirement already satisfied: jsonschema-specifications>=2023.03.6 in d:\\# my learning\\coding\\summer-internship\\.venv\\lib\\site-packages (from jsonschema>=4.19.0->chromadb) (2025.4.1)\n",
      "Requirement already satisfied: referencing>=0.28.4 in d:\\# my learning\\coding\\summer-internship\\.venv\\lib\\site-packages (from jsonschema>=4.19.0->chromadb) (0.36.2)\n",
      "Requirement already satisfied: rpds-py>=0.7.1 in d:\\# my learning\\coding\\summer-internship\\.venv\\lib\\site-packages (from jsonschema>=4.19.0->chromadb) (0.24.0)\n",
      "Requirement already satisfied: six>=1.9.0 in d:\\# my learning\\coding\\summer-internship\\.venv\\lib\\site-packages (from kubernetes>=28.1.0->chromadb) (1.17.0)\n",
      "Requirement already satisfied: python-dateutil>=2.5.3 in d:\\# my learning\\coding\\summer-internship\\.venv\\lib\\site-packages (from kubernetes>=28.1.0->chromadb) (2.9.0.post0)\n",
      "Requirement already satisfied: google-auth>=1.0.1 in d:\\# my learning\\coding\\summer-internship\\.venv\\lib\\site-packages (from kubernetes>=28.1.0->chromadb) (2.40.1)\n",
      "Requirement already satisfied: websocket-client!=0.40.0,!=0.41.*,!=0.42.*,>=0.32.0 in d:\\# my learning\\coding\\summer-internship\\.venv\\lib\\site-packages (from kubernetes>=28.1.0->chromadb) (1.8.0)\n",
      "Requirement already satisfied: requests in d:\\# my learning\\coding\\summer-internship\\.venv\\lib\\site-packages (from kubernetes>=28.1.0->chromadb) (2.32.3)\n",
      "Requirement already satisfied: requests-oauthlib in d:\\# my learning\\coding\\summer-internship\\.venv\\lib\\site-packages (from kubernetes>=28.1.0->chromadb) (2.0.0)\n",
      "Requirement already satisfied: oauthlib>=3.2.2 in d:\\# my learning\\coding\\summer-internship\\.venv\\lib\\site-packages (from kubernetes>=28.1.0->chromadb) (3.2.2)\n",
      "Requirement already satisfied: urllib3>=1.24.2 in d:\\# my learning\\coding\\summer-internship\\.venv\\lib\\site-packages (from kubernetes>=28.1.0->chromadb) (2.4.0)\n",
      "Requirement already satisfied: durationpy>=0.7 in d:\\# my learning\\coding\\summer-internship\\.venv\\lib\\site-packages (from kubernetes>=28.1.0->chromadb) (0.9)\n",
      "Requirement already satisfied: cachetools<6.0,>=2.0.0 in d:\\# my learning\\coding\\summer-internship\\.venv\\lib\\site-packages (from google-auth>=1.0.1->kubernetes>=28.1.0->chromadb) (5.5.2)\n",
      "Requirement already satisfied: pyasn1-modules>=0.2.1 in d:\\# my learning\\coding\\summer-internship\\.venv\\lib\\site-packages (from google-auth>=1.0.1->kubernetes>=28.1.0->chromadb) (0.4.2)\n",
      "Requirement already satisfied: rsa<5,>=3.1.4 in d:\\# my learning\\coding\\summer-internship\\.venv\\lib\\site-packages (from google-auth>=1.0.1->kubernetes>=28.1.0->chromadb) (4.9.1)\n",
      "Requirement already satisfied: pyasn1>=0.1.3 in d:\\# my learning\\coding\\summer-internship\\.venv\\lib\\site-packages (from rsa<5,>=3.1.4->google-auth>=1.0.1->kubernetes>=28.1.0->chromadb) (0.6.1)\n",
      "Requirement already satisfied: coloredlogs in d:\\# my learning\\coding\\summer-internship\\.venv\\lib\\site-packages (from onnxruntime>=1.14.1->chromadb) (15.0.1)\n",
      "Requirement already satisfied: flatbuffers in d:\\# my learning\\coding\\summer-internship\\.venv\\lib\\site-packages (from onnxruntime>=1.14.1->chromadb) (25.2.10)\n",
      "Requirement already satisfied: protobuf in d:\\# my learning\\coding\\summer-internship\\.venv\\lib\\site-packages (from onnxruntime>=1.14.1->chromadb) (5.29.4)\n",
      "Requirement already satisfied: sympy in d:\\# my learning\\coding\\summer-internship\\.venv\\lib\\site-packages (from onnxruntime>=1.14.1->chromadb) (1.14.0)\n",
      "Requirement already satisfied: deprecated>=1.2.6 in d:\\# my learning\\coding\\summer-internship\\.venv\\lib\\site-packages (from opentelemetry-api>=1.2.0->chromadb) (1.2.18)\n",
      "Requirement already satisfied: importlib-metadata<8.7.0,>=6.0 in d:\\# my learning\\coding\\summer-internship\\.venv\\lib\\site-packages (from opentelemetry-api>=1.2.0->chromadb) (8.6.1)\n",
      "Requirement already satisfied: zipp>=3.20 in d:\\# my learning\\coding\\summer-internship\\.venv\\lib\\site-packages (from importlib-metadata<8.7.0,>=6.0->opentelemetry-api>=1.2.0->chromadb) (3.21.0)\n",
      "Requirement already satisfied: wrapt<2,>=1.10 in d:\\# my learning\\coding\\summer-internship\\.venv\\lib\\site-packages (from deprecated>=1.2.6->opentelemetry-api>=1.2.0->chromadb) (1.17.2)\n",
      "Requirement already satisfied: googleapis-common-protos~=1.52 in d:\\# my learning\\coding\\summer-internship\\.venv\\lib\\site-packages (from opentelemetry-exporter-otlp-proto-grpc>=1.2.0->chromadb) (1.70.0)\n",
      "Requirement already satisfied: opentelemetry-exporter-otlp-proto-common==1.33.0 in d:\\# my learning\\coding\\summer-internship\\.venv\\lib\\site-packages (from opentelemetry-exporter-otlp-proto-grpc>=1.2.0->chromadb) (1.33.0)\n",
      "Requirement already satisfied: opentelemetry-proto==1.33.0 in d:\\# my learning\\coding\\summer-internship\\.venv\\lib\\site-packages (from opentelemetry-exporter-otlp-proto-grpc>=1.2.0->chromadb) (1.33.0)\n",
      "Requirement already satisfied: opentelemetry-semantic-conventions==0.54b0 in d:\\# my learning\\coding\\summer-internship\\.venv\\lib\\site-packages (from opentelemetry-sdk>=1.2.0->chromadb) (0.54b0)\n",
      "Requirement already satisfied: opentelemetry-instrumentation-asgi==0.54b0 in d:\\# my learning\\coding\\summer-internship\\.venv\\lib\\site-packages (from opentelemetry-instrumentation-fastapi>=0.41b0->chromadb) (0.54b0)\n",
      "Requirement already satisfied: opentelemetry-instrumentation==0.54b0 in d:\\# my learning\\coding\\summer-internship\\.venv\\lib\\site-packages (from opentelemetry-instrumentation-fastapi>=0.41b0->chromadb) (0.54b0)\n",
      "Requirement already satisfied: opentelemetry-util-http==0.54b0 in d:\\# my learning\\coding\\summer-internship\\.venv\\lib\\site-packages (from opentelemetry-instrumentation-fastapi>=0.41b0->chromadb) (0.54b0)\n",
      "Requirement already satisfied: asgiref~=3.0 in d:\\# my learning\\coding\\summer-internship\\.venv\\lib\\site-packages (from opentelemetry-instrumentation-asgi==0.54b0->opentelemetry-instrumentation-fastapi>=0.41b0->chromadb) (3.8.1)\n",
      "Requirement already satisfied: backoff>=1.10.0 in d:\\# my learning\\coding\\summer-internship\\.venv\\lib\\site-packages (from posthog>=2.4.0->chromadb) (2.2.1)\n",
      "Requirement already satisfied: distro>=1.5.0 in d:\\# my learning\\coding\\summer-internship\\.venv\\lib\\site-packages (from posthog>=2.4.0->chromadb) (1.9.0)\n",
      "Requirement already satisfied: charset-normalizer<4,>=2 in d:\\# my learning\\coding\\summer-internship\\.venv\\lib\\site-packages (from requests->kubernetes>=28.1.0->chromadb) (3.4.2)\n",
      "Requirement already satisfied: markdown-it-py>=2.2.0 in d:\\# my learning\\coding\\summer-internship\\.venv\\lib\\site-packages (from rich>=10.11.0->chromadb) (3.0.0)\n",
      "Requirement already satisfied: pygments<3.0.0,>=2.13.0 in d:\\# my learning\\coding\\summer-internship\\.venv\\lib\\site-packages (from rich>=10.11.0->chromadb) (2.19.1)\n",
      "Requirement already satisfied: mdurl~=0.1 in d:\\# my learning\\coding\\summer-internship\\.venv\\lib\\site-packages (from markdown-it-py>=2.2.0->rich>=10.11.0->chromadb) (0.1.2)\n",
      "Requirement already satisfied: huggingface-hub<1.0,>=0.16.4 in d:\\# my learning\\coding\\summer-internship\\.venv\\lib\\site-packages (from tokenizers>=0.13.2->chromadb) (0.31.2)\n",
      "Requirement already satisfied: filelock in d:\\# my learning\\coding\\summer-internship\\.venv\\lib\\site-packages (from huggingface-hub<1.0,>=0.16.4->tokenizers>=0.13.2->chromadb) (3.18.0)\n",
      "Requirement already satisfied: fsspec>=2023.5.0 in d:\\# my learning\\coding\\summer-internship\\.venv\\lib\\site-packages (from huggingface-hub<1.0,>=0.16.4->tokenizers>=0.13.2->chromadb) (2025.3.2)\n",
      "Requirement already satisfied: click<8.2,>=8.0.0 in d:\\# my learning\\coding\\summer-internship\\.venv\\lib\\site-packages (from typer>=0.9.0->chromadb) (8.1.8)\n",
      "Requirement already satisfied: shellingham>=1.3.0 in d:\\# my learning\\coding\\summer-internship\\.venv\\lib\\site-packages (from typer>=0.9.0->chromadb) (1.5.4)\n",
      "Requirement already satisfied: httptools>=0.6.3 in d:\\# my learning\\coding\\summer-internship\\.venv\\lib\\site-packages (from uvicorn[standard]>=0.18.3->chromadb) (0.6.4)\n",
      "Requirement already satisfied: python-dotenv>=0.13 in d:\\# my learning\\coding\\summer-internship\\.venv\\lib\\site-packages (from uvicorn[standard]>=0.18.3->chromadb) (1.1.0)\n",
      "Requirement already satisfied: watchfiles>=0.13 in d:\\# my learning\\coding\\summer-internship\\.venv\\lib\\site-packages (from uvicorn[standard]>=0.18.3->chromadb) (1.0.5)\n",
      "Requirement already satisfied: websockets>=10.4 in d:\\# my learning\\coding\\summer-internship\\.venv\\lib\\site-packages (from uvicorn[standard]>=0.18.3->chromadb) (15.0.1)\n",
      "Requirement already satisfied: humanfriendly>=9.1 in d:\\# my learning\\coding\\summer-internship\\.venv\\lib\\site-packages (from coloredlogs->onnxruntime>=1.14.1->chromadb) (10.0)\n",
      "Requirement already satisfied: pyreadline3 in d:\\# my learning\\coding\\summer-internship\\.venv\\lib\\site-packages (from humanfriendly>=9.1->coloredlogs->onnxruntime>=1.14.1->chromadb) (3.5.4)\n",
      "Requirement already satisfied: mpmath<1.4,>=1.1.0 in d:\\# my learning\\coding\\summer-internship\\.venv\\lib\\site-packages (from sympy->onnxruntime>=1.14.1->chromadb) (1.3.0)\n",
      "Note: you may need to restart the kernel to use updated packages.\n"
     ]
    }
   ],
   "source": [
    "pip install chromadb"
   ]
  },
  {
   "cell_type": "markdown",
   "id": "fd3c6a25",
   "metadata": {},
   "source": [
    "Create a DB\n"
   ]
  },
  {
   "cell_type": "code",
   "execution_count": 5,
   "id": "e633019c",
   "metadata": {},
   "outputs": [],
   "source": [
    "import chromadb \n",
    "chroma_client = chromadb.Client()"
   ]
  },
  {
   "cell_type": "markdown",
   "id": "4c377364",
   "metadata": {},
   "source": [
    "create collection"
   ]
  },
  {
   "cell_type": "code",
   "execution_count": 6,
   "id": "5b166ac0",
   "metadata": {},
   "outputs": [],
   "source": [
    "collection = chroma_client.create_collection(name=\"My_Collection\")"
   ]
  },
  {
   "cell_type": "markdown",
   "id": "cb5439cd",
   "metadata": {},
   "source": [
    "Add some text document to collection"
   ]
  },
  {
   "cell_type": "code",
   "execution_count": 7,
   "id": "8cc38132",
   "metadata": {},
   "outputs": [],
   "source": [
    "collection.add(\n",
    "    documents=[\n",
    "        \"This is a document about  \",\n",
    "        \"Welcome to this documente\"\n",
    "    ],\n",
    "    ids=['id1', 'id2']\n",
    ")"
   ]
  },
  {
   "cell_type": "markdown",
   "id": "a11bab0d",
   "metadata": {},
   "source": [
    "Query the collection"
   ]
  },
  {
   "cell_type": "code",
   "execution_count": 8,
   "id": "660c9eae",
   "metadata": {},
   "outputs": [
    {
     "name": "stdout",
     "output_type": "stream",
     "text": [
      "{'ids': [['id1', 'id2']], 'embeddings': None, 'documents': [['This is a document about  ', 'Welcome to this documente']], 'uris': None, 'included': ['metadatas', 'documents', 'distances'], 'data': None, 'metadatas': [[None, None]], 'distances': [[1.5123367309570312, 1.9398043155670166]]}\n"
     ]
    }
   ],
   "source": [
    "results=collection.query(\n",
    "    query_texts=[\"This is a sample query about hawaii\"], # chroma will embed this \n",
    "    n_results=2 # No of result to return\n",
    ")\n",
    "\n",
    "print(results)"
   ]
  },
  {
   "cell_type": "code",
   "execution_count": 9,
   "id": "d0642d31",
   "metadata": {},
   "outputs": [
    {
     "name": "stdout",
     "output_type": "stream",
     "text": [
      "{'ids': [['id1', 'id2']], 'embeddings': None, 'documents': [['This is a document about  ', 'Welcome to this documente']], 'uris': None, 'included': ['metadatas', 'documents', 'distances'], 'data': None, 'metadatas': [[None, None]], 'distances': [[1.6396170854568481, 1.9013142585754395]]}\n"
     ]
    }
   ],
   "source": [
    "results=collection.query(\n",
    "    query_texts=[\"This is a sample query about Orange\"], # chroma will embed this \n",
    "    n_results=2 # No of result to return\n",
    ")\n",
    "\n",
    "print(results)"
   ]
  },
  {
   "cell_type": "markdown",
   "id": "80c85033",
   "metadata": {},
   "source": [
    "Persist the data"
   ]
  },
  {
   "cell_type": "code",
   "execution_count": 10,
   "id": "757e557d",
   "metadata": {},
   "outputs": [],
   "source": [
    "client = chromadb.PersistentClient(path=\"./db/\")"
   ]
  },
  {
   "cell_type": "code",
   "execution_count": 11,
   "id": "076570e8",
   "metadata": {},
   "outputs": [
    {
     "data": {
      "text/plain": [
       "1747466652898853800"
      ]
     },
     "execution_count": 11,
     "metadata": {},
     "output_type": "execute_result"
    }
   ],
   "source": [
    "client.heartbeat()  # returns a nanosec heartbeat to make sure the client remain connected"
   ]
  },
  {
   "cell_type": "code",
   "execution_count": 12,
   "id": "2d860245",
   "metadata": {},
   "outputs": [
    {
     "ename": "AuthorizationError",
     "evalue": "Reset is disabled by config",
     "output_type": "error",
     "traceback": [
      "\u001b[31m---------------------------------------------------------------------------\u001b[39m",
      "\u001b[31mAuthorizationError\u001b[39m                        Traceback (most recent call last)",
      "\u001b[36mCell\u001b[39m\u001b[36m \u001b[39m\u001b[32mIn[12]\u001b[39m\u001b[32m, line 1\u001b[39m\n\u001b[32m----> \u001b[39m\u001b[32m1\u001b[39m \u001b[43mclient\u001b[49m\u001b[43m.\u001b[49m\u001b[43mreset\u001b[49m\u001b[43m(\u001b[49m\u001b[43m)\u001b[49m \u001b[38;5;66;03m# By simply runnin this will not work\u001b[39;00m\n",
      "\u001b[36mFile \u001b[39m\u001b[32md:\\# My Learning\\Coding\\Summer-Internship\\.venv\\Lib\\site-packages\\chromadb\\api\\client.py:403\u001b[39m, in \u001b[36mClient.reset\u001b[39m\u001b[34m(self)\u001b[39m\n\u001b[32m    401\u001b[39m \u001b[38;5;129m@override\u001b[39m\n\u001b[32m    402\u001b[39m \u001b[38;5;28;01mdef\u001b[39;00m\u001b[38;5;250m \u001b[39m\u001b[34mreset\u001b[39m(\u001b[38;5;28mself\u001b[39m) -> \u001b[38;5;28mbool\u001b[39m:\n\u001b[32m--> \u001b[39m\u001b[32m403\u001b[39m     \u001b[38;5;28;01mreturn\u001b[39;00m \u001b[38;5;28;43mself\u001b[39;49m\u001b[43m.\u001b[49m\u001b[43m_server\u001b[49m\u001b[43m.\u001b[49m\u001b[43mreset\u001b[49m\u001b[43m(\u001b[49m\u001b[43m)\u001b[49m\n",
      "\u001b[36mFile \u001b[39m\u001b[32md:\\# My Learning\\Coding\\Summer-Internship\\.venv\\Lib\\site-packages\\chromadb\\api\\rust.py:565\u001b[39m, in \u001b[36mRustBindingsAPI.reset\u001b[39m\u001b[34m(self)\u001b[39m\n\u001b[32m    563\u001b[39m \u001b[38;5;129m@override\u001b[39m\n\u001b[32m    564\u001b[39m \u001b[38;5;28;01mdef\u001b[39;00m\u001b[38;5;250m \u001b[39m\u001b[34mreset\u001b[39m(\u001b[38;5;28mself\u001b[39m) -> \u001b[38;5;28mbool\u001b[39m:\n\u001b[32m--> \u001b[39m\u001b[32m565\u001b[39m     \u001b[38;5;28;01mreturn\u001b[39;00m \u001b[38;5;28;43mself\u001b[39;49m\u001b[43m.\u001b[49m\u001b[43mbindings\u001b[49m\u001b[43m.\u001b[49m\u001b[43mreset\u001b[49m\u001b[43m(\u001b[49m\u001b[43m)\u001b[49m\n",
      "\u001b[31mAuthorizationError\u001b[39m: Reset is disabled by config"
     ]
    }
   ],
   "source": [
    "client.reset() # By simply runnin this will not work"
   ]
  },
  {
   "cell_type": "code",
   "execution_count": 13,
   "id": "271a5fe8",
   "metadata": {},
   "outputs": [],
   "source": [
    "from chromadb.config import DEFAULT_TENANT, DEFAULT_DATABASE, Settings"
   ]
  },
  {
   "cell_type": "code",
   "execution_count": 14,
   "id": "0f8463ff",
   "metadata": {},
   "outputs": [
    {
     "data": {
      "text/plain": [
       "('default_tenant', 'default_database')"
      ]
     },
     "execution_count": 14,
     "metadata": {},
     "output_type": "execute_result"
    }
   ],
   "source": [
    "DEFAULT_TENANT,DEFAULT_DATABASE"
   ]
  },
  {
   "cell_type": "code",
   "execution_count": 15,
   "id": "13790a46",
   "metadata": {},
   "outputs": [],
   "source": [
    "client = chromadb.PersistentClient(\n",
    "    path=\"./db2/\",\n",
    "    settings=Settings(\n",
    "                is_persistent = True,\n",
    "                persist_directory = \"/db2/\",\n",
    "                allow_reset = True,\n",
    "        anonymized_telemetry=False),\n",
    "    tenant=DEFAULT_TENANT,\n",
    "    database=DEFAULT_DATABASE,\n",
    ")\n",
    "\n",
    "# path - parameter must be a local path on the machine where Chroma is running. If the path does not exist, it will be created. The path can be relative or absolute. If the path is not specified, the default is ./chroma in the current working directory.\n",
    "# settings - Chroma settings object.\n",
    "# tenant - the tenant to use. Default is default_tenant.\n",
    "# database - the database to use. Default is default_database."
   ]
  },
  {
   "cell_type": "code",
   "execution_count": 16,
   "id": "6f43f88a",
   "metadata": {},
   "outputs": [
    {
     "data": {
      "text/plain": [
       "True"
      ]
     },
     "execution_count": 16,
     "metadata": {},
     "output_type": "execute_result"
    }
   ],
   "source": [
    "client.reset()  # Now this will work"
   ]
  },
  {
   "cell_type": "markdown",
   "id": "b0bb5635",
   "metadata": {},
   "source": [
    "<b> Creating, Inspecting and Deleting Collection </b>\n",
    "\n",
    "<p>\n",
    "Chroma uses collection names in the url, so there are a few restrictions on naming them:\n",
    "\n",
    "- The length of the name must be between 3 and 63 characters.\n",
    "- The name must start and end with a lowercase letter or a digit, and it can contain dots, dashes, and underscores in between.\n",
    "- The name must not contain two consecutive dots.\n",
    "- The name must not be a valid IP address.</p>"
   ]
  },
  {
   "cell_type": "markdown",
   "id": "4a37d012",
   "metadata": {},
   "source": [
    "<italics>Chroma collections are created with a name and an optional embedding function. If you supply an embedding function, you must supply it every time you get the collection.</italics >"
   ]
  },
  {
   "cell_type": "code",
   "execution_count": 17,
   "id": "c288dc94",
   "metadata": {},
   "outputs": [],
   "source": [
    "from chromadb.utils import embedding_functions"
   ]
  },
  {
   "cell_type": "code",
   "execution_count": 18,
   "id": "c8aa173c",
   "metadata": {},
   "outputs": [
    {
     "name": "stderr",
     "output_type": "stream",
     "text": [
      "d:\\# My Learning\\Coding\\Summer-Internship\\.venv\\Lib\\site-packages\\tqdm\\auto.py:21: TqdmWarning: IProgress not found. Please update jupyter and ipywidgets. See https://ipywidgets.readthedocs.io/en/stable/user_install.html\n",
      "  from .autonotebook import tqdm as notebook_tqdm\n"
     ]
    }
   ],
   "source": [
    "emb_fun=embedding_functions.SentenceTransformerEmbeddingFunction()"
   ]
  },
  {
   "cell_type": "code",
   "execution_count": 19,
   "id": "6c7ac24b",
   "metadata": {},
   "outputs": [],
   "source": [
    "model_name = \"all-MiniLM-L6-v2\"\n",
    "emb_fun = embedding_functions.SentenceTransformerEmbeddingFunction(model_name=model_name)"
   ]
  },
  {
   "cell_type": "code",
   "execution_count": 20,
   "id": "17c01cce",
   "metadata": {},
   "outputs": [
    {
     "data": {
      "text/plain": [
       "[array([-5.73623739e-02, -1.16481781e-02, -1.22139952e-03,  2.09228769e-02,\n",
       "         2.38797851e-02, -3.77398245e-02, -2.04281565e-02, -2.06078868e-02,\n",
       "        -4.46448885e-02, -2.95937173e-02,  3.68522406e-02,  5.80347553e-02,\n",
       "        -6.66918010e-02,  1.99460499e-02, -6.76470697e-02,  6.63192570e-02,\n",
       "         7.03084841e-02, -1.20073380e-02, -2.81319190e-02, -5.41426837e-02,\n",
       "         4.89913998e-03, -4.27241176e-02,  5.71595831e-03,  3.22622769e-02,\n",
       "        -4.49759774e-02, -1.69816334e-02,  3.40951197e-02,  6.09736741e-02,\n",
       "         1.69017669e-02, -3.45815085e-02, -4.21386994e-02,  7.32292309e-02,\n",
       "         4.14056964e-02,  9.79096349e-03,  2.84802783e-02, -2.45167073e-02,\n",
       "         2.18786951e-02, -2.08951533e-02, -3.16071697e-02, -1.68134626e-02,\n",
       "         1.00759100e-02, -2.11724937e-02, -4.47666273e-02,  1.13326788e-03,\n",
       "        -5.24000973e-02,  1.01943985e-01, -4.18204255e-02, -4.08316217e-02,\n",
       "         1.66139044e-02,  5.19749448e-02,  4.90134489e-03, -5.97857637e-03,\n",
       "        -4.81622666e-02,  2.72070672e-02,  3.95548902e-02, -4.18690518e-02,\n",
       "        -7.84424786e-03, -6.71577156e-02,  2.91969031e-02, -3.98931541e-02,\n",
       "         5.03341518e-02,  1.98445637e-02, -3.37748826e-02,  4.30624858e-02,\n",
       "        -6.29224330e-02, -2.05170619e-03, -4.39182855e-02, -5.49536310e-02,\n",
       "        -1.86658988e-03, -5.40599488e-02, -8.04512724e-02,  9.46377069e-02,\n",
       "         2.05950774e-02, -1.45079540e-02,  7.32097924e-02,  7.89031982e-02,\n",
       "         8.62987991e-03, -1.58620812e-02,  7.21166432e-02, -5.53824119e-02,\n",
       "        -4.54910994e-02,  5.57119697e-02, -2.94104386e-02, -1.90002173e-02,\n",
       "        -6.37800545e-02, -6.19988292e-02, -9.31326952e-03, -3.79368141e-02,\n",
       "         6.17385609e-03, -1.68661345e-02, -4.57680635e-02,  5.05147763e-02,\n",
       "         3.14393863e-02, -8.85993056e-03, -1.82744667e-01, -6.15071692e-02,\n",
       "        -2.59700790e-03, -2.46484876e-02, -2.70676762e-02,  1.87266722e-01,\n",
       "         2.76939757e-02, -6.47524465e-03, -1.33137554e-02,  9.65228081e-02,\n",
       "        -1.77634023e-02,  2.34919111e-03,  2.42788233e-02,  3.22410986e-02,\n",
       "         6.72686088e-04, -4.31383960e-02, -4.57934896e-03,  6.41262755e-02,\n",
       "         7.19395056e-02,  8.07512552e-02, -1.58021152e-02,  6.48008659e-02,\n",
       "        -5.39964810e-02,  1.08765535e-01,  4.87933420e-02, -5.59634715e-02,\n",
       "         6.53790832e-02, -3.25275473e-02, -4.68187593e-02, -5.99981546e-02,\n",
       "        -2.72840112e-02, -7.31165856e-02,  3.48933935e-02, -2.59634945e-33,\n",
       "         9.51198786e-02,  2.01059505e-02,  4.17216681e-02,  4.09649871e-02,\n",
       "         7.76591524e-02,  2.17945967e-03, -5.35102282e-03,  4.27225226e-04,\n",
       "        -1.03208937e-01,  6.10490777e-02,  5.83647266e-02,  1.21122740e-01,\n",
       "        -2.19082981e-02, -1.97158824e-03, -7.38781989e-02, -4.96961921e-02,\n",
       "         3.81013155e-02,  2.25308258e-02,  1.78496763e-02,  5.46250567e-02,\n",
       "        -2.06652260e-03,  5.24063371e-02,  7.41656171e-03,  2.23073866e-02,\n",
       "        -1.86544955e-02, -4.05559577e-02,  1.91995762e-02, -6.37352243e-02,\n",
       "        -1.48229003e-02,  1.62670133e-03, -4.21777591e-02, -2.55257878e-02,\n",
       "        -1.93726365e-02, -5.86011857e-02, -4.60247472e-02,  9.69385542e-03,\n",
       "        -6.69645518e-02, -3.43012735e-02, -3.79940011e-02,  4.12160531e-02,\n",
       "        -6.88365521e-03, -2.77641993e-02,  2.99083982e-02, -1.31480126e-02,\n",
       "        -1.26592219e-02,  2.28552632e-02,  2.88418531e-02,  5.92999496e-02,\n",
       "         5.90368696e-02, -6.64626295e-03, -7.78538585e-02, -4.34611700e-02,\n",
       "        -2.85097025e-03,  1.90889277e-02, -3.50541286e-02, -4.02379110e-02,\n",
       "         1.33062629e-02,  5.46832383e-03, -7.78491870e-02,  3.39164026e-02,\n",
       "         9.00553241e-02,  6.87257499e-02,  1.77785940e-02, -5.71804419e-02,\n",
       "         1.26427738e-02,  2.84341685e-02,  1.52287669e-02,  3.55945826e-02,\n",
       "        -3.42879035e-02,  1.23682963e-02, -3.33081298e-02,  3.71672679e-03,\n",
       "         1.20168366e-01,  1.67229641e-02, -1.10772774e-02, -2.33266465e-02,\n",
       "        -8.19585170e-04, -2.60907579e-02,  5.88676222e-02, -5.88486250e-03,\n",
       "         3.44448984e-02, -2.27487069e-02, -3.03381998e-02, -2.37748194e-02,\n",
       "        -5.39598847e-03, -2.10365783e-02,  3.42709199e-02, -7.21584111e-02,\n",
       "        -4.25997265e-02,  6.64898148e-03,  4.46237773e-02, -2.69489344e-02,\n",
       "         2.60855556e-02,  1.45818256e-02, -4.83216196e-02,  1.76485508e-33,\n",
       "         6.73929527e-02,  3.43119353e-02, -7.02130422e-02,  1.31395236e-01,\n",
       "         1.05463236e-03, -4.87160258e-04, -2.06739381e-02,  1.07171707e-01,\n",
       "        -2.38901079e-02,  6.14615418e-02,  1.07558452e-01,  6.88938722e-02,\n",
       "        -2.09544804e-02,  6.95096282e-03, -8.97516962e-03,  1.37484688e-02,\n",
       "         2.48587336e-02, -1.00776041e-02, -1.08172551e-01,  3.86195141e-03,\n",
       "         2.90864403e-03, -3.03852409e-02, -4.69337553e-02, -6.42297640e-02,\n",
       "        -6.75160363e-02,  9.26242117e-03,  4.11203168e-02,  6.99911341e-02,\n",
       "         1.01303197e-02, -1.07258772e-02,  7.28920698e-02,  3.23302075e-02,\n",
       "        -1.53307825e-01, -1.21723721e-02,  3.83879431e-02,  1.24633253e-01,\n",
       "         6.80912733e-02, -1.59973130e-02,  7.87522122e-02, -3.93215055e-03,\n",
       "         8.74464121e-03,  2.95997877e-03,  3.91203165e-02,  4.79451381e-02,\n",
       "         1.11337658e-02, -6.74020201e-02,  6.05112985e-02, -4.45736200e-02,\n",
       "        -7.60881007e-02,  4.94202077e-02, -5.26984744e-02,  1.84572991e-02,\n",
       "         7.52622914e-03, -1.13644101e-01, -6.51896968e-02, -2.50854138e-02,\n",
       "         5.20431027e-02, -9.67372395e-03,  6.22266941e-02, -1.45947915e-02,\n",
       "        -5.16775809e-02,  2.38197539e-02, -5.47488481e-02,  2.83759311e-02,\n",
       "         2.38772798e-02,  1.60477720e-02,  4.81454879e-02,  3.11557967e-02,\n",
       "        -4.94612977e-02, -5.39691932e-02, -5.25250621e-02,  2.95792371e-02,\n",
       "        -1.14803098e-01,  1.98425027e-03,  1.05706649e-02, -5.00576422e-02,\n",
       "        -1.14607401e-02,  5.73893730e-03,  1.84408091e-02,  1.72531742e-04,\n",
       "        -6.41412707e-03, -4.49323207e-02, -4.52491753e-02,  2.44525764e-02,\n",
       "         6.48587942e-02, -3.65115851e-02,  7.36649632e-02,  3.44283809e-03,\n",
       "        -5.70261292e-02, -1.51842833e-02, -1.14195302e-01,  5.79470471e-02,\n",
       "        -1.40279131e-02, -8.59022234e-03, -6.97066262e-02, -1.42326018e-08,\n",
       "        -3.63049991e-02, -1.07509056e-02,  3.13973837e-02,  7.24440515e-02,\n",
       "         5.85237890e-02,  1.91860702e-02,  3.87425795e-02, -4.43754978e-02,\n",
       "        -3.16487849e-02,  7.53664598e-02,  6.88154846e-02, -5.03988611e-03,\n",
       "         2.06689611e-02,  8.80976915e-02,  1.96945984e-02, -9.39000547e-02,\n",
       "        -4.64712121e-02,  9.93205160e-02, -4.57832552e-02, -3.64225879e-02,\n",
       "        -5.07938862e-02,  4.50480506e-02,  4.20394577e-02,  2.88885757e-02,\n",
       "         2.17730757e-02,  1.69551140e-03, -5.83423674e-02,  1.25816867e-01,\n",
       "         4.88431342e-02, -8.21199454e-03, -4.74504270e-02,  9.40502360e-02,\n",
       "         2.51280703e-02, -2.94364477e-03,  2.55273301e-02,  1.53479427e-01,\n",
       "        -5.70942461e-02, -6.25594170e-04, -1.01250107e-03, -2.65934970e-02,\n",
       "        -3.48109156e-02, -3.94805633e-02,  7.35995770e-02, -9.32755694e-02,\n",
       "        -1.33258730e-01, -4.17251140e-02,  1.23576401e-02,  6.98683271e-03,\n",
       "         8.13669525e-03, -2.92359851e-02,  2.48052813e-02, -7.29073724e-03,\n",
       "         9.76341739e-02,  5.90583980e-02,  5.82060218e-02,  3.02182510e-02,\n",
       "        -2.79623885e-02, -1.61398277e-02,  8.32899883e-02,  2.50751954e-02,\n",
       "         1.03685923e-01,  1.33708030e-01,  2.68709660e-02,  2.86157243e-02],\n",
       "       dtype=float32)]"
      ]
     },
     "execution_count": 20,
     "metadata": {},
     "output_type": "execute_result"
    }
   ],
   "source": [
    "emb_fun([\"Welcome\"])"
   ]
  },
  {
   "cell_type": "code",
   "execution_count": 21,
   "id": "6a528b01",
   "metadata": {},
   "outputs": [
    {
     "data": {
      "text/plain": [
       "384"
      ]
     },
     "execution_count": 21,
     "metadata": {},
     "output_type": "execute_result"
    }
   ],
   "source": [
    "len(emb_fun([\"Welcome\"])[0])"
   ]
  },
  {
   "cell_type": "markdown",
   "id": "76f00061",
   "metadata": {},
   "source": [
    "Create Collection"
   ]
  },
  {
   "cell_type": "code",
   "execution_count": 22,
   "id": "db9ffe89",
   "metadata": {},
   "outputs": [],
   "source": [
    "collection=client.create_collection(name=\"My_Collection2\", embedding_function=emb_fun)"
   ]
  },
  {
   "cell_type": "markdown",
   "id": "5dde5adf",
   "metadata": {},
   "source": [
    "Get collection"
   ]
  },
  {
   "cell_type": "code",
   "execution_count": 23,
   "id": "6e7c2e2d",
   "metadata": {},
   "outputs": [],
   "source": [
    "collection=client.get_collection(name=\"My_Collection2\", embedding_function=emb_fun)"
   ]
  },
  {
   "cell_type": "markdown",
   "id": "c49fa06b",
   "metadata": {},
   "source": [
    "Delete Collection"
   ]
  },
  {
   "cell_type": "code",
   "execution_count": 24,
   "id": "6c02a6e9",
   "metadata": {},
   "outputs": [],
   "source": [
    "client.delete_collection(name=\"My_Collection2\")"
   ]
  },
  {
   "cell_type": "markdown",
   "id": "a63c1f83",
   "metadata": {},
   "source": [
    "IF Not sure if a collection exist or need to be created"
   ]
  },
  {
   "cell_type": "code",
   "execution_count": 25,
   "id": "34335eda",
   "metadata": {},
   "outputs": [],
   "source": [
    "collection=client.get_or_create_collection(name=\"Some_Collection\")"
   ]
  },
  {
   "cell_type": "code",
   "execution_count": 26,
   "id": "ebaeea52",
   "metadata": {},
   "outputs": [
    {
     "data": {
      "text/plain": [
       "Collection(name=Some_Collection)"
      ]
     },
     "execution_count": 26,
     "metadata": {},
     "output_type": "execute_result"
    }
   ],
   "source": [
    "collection"
   ]
  },
  {
   "cell_type": "markdown",
   "id": "6086924c",
   "metadata": {},
   "source": [
    "Rename a collection\n"
   ]
  },
  {
   "cell_type": "code",
   "execution_count": 27,
   "id": "7fc5c121",
   "metadata": {},
   "outputs": [
    {
     "data": {
      "text/plain": [
       "Collection(name=New_Collection_Name)"
      ]
     },
     "execution_count": 27,
     "metadata": {},
     "output_type": "execute_result"
    }
   ],
   "source": [
    "collection.modify(name=\"New_Collection_Name\")\n",
    "collection"
   ]
  },
  {
   "cell_type": "markdown",
   "id": "ec95f107",
   "metadata": {},
   "source": [
    "Add Documents"
   ]
  },
  {
   "cell_type": "code",
   "execution_count": 28,
   "id": "a4764a44",
   "metadata": {},
   "outputs": [],
   "source": [
    "collection.add(\n",
    "    documents=[\"som2\", \"doc2\", \"doc3\"],\n",
    "    metadatas=[{\"chapter\": \"3\", \"verse\": \"16\"}, {\"chapter\": \"3\", \"verse\": \"5\"}, {\"chapter\": \"29\", \"verse\": \"11\"}],\n",
    "    ids=[\"id1\", \"id2\", \"id3\"]\n",
    ")"
   ]
  },
  {
   "cell_type": "markdown",
   "id": "4ff77555",
   "metadata": {},
   "source": [
    "<p style=\"Font-size:14px\">If Chroma is passed a list of documents, it will automatically tokenize and embed them with the collection's embedding function (the default will be used if none was supplied at collection creation). Chroma will also store the documents themselves. If the documents are too large to embed using the chosen embedding function, an exception will be raised. </p>\n",
    "<p style=\"Font-size:14px\">\n",
    "Each document must have a unique associated id. Trying to .add the same ID twice will result in only the initial value being stored. An optional list of metadata dictionaries can be supplied for each document, to store additional information and enable filtering.<br></p>\n",
    "<p style=\"Font-size:14px\">\n",
    "Alternatively, you can supply a list of document-associated embeddings directly, and Chroma will store the associated documents without embedding them itself.</p>"
   ]
  },
  {
   "cell_type": "code",
   "execution_count": 29,
   "id": "f60583b0",
   "metadata": {},
   "outputs": [],
   "source": [
    "collection.add(\n",
    "    documents=[\"doc1\", \"doc2\", \"doc3\"],\n",
    "#     embeddings=[[1.1, 2.3, 3.2], [4.5, 6.9, 4.4], [1.1, 2.3, 3.2]],\n",
    "    metadatas=[{\"chapter\": \"3\", \"verse\": \"16\"}, {\"chapter\": \"3\", \"verse\": \"5\"}, {\"chapter\": \"29\", \"verse\": \"11\"}],\n",
    "    ids=[\"id11\", \"id21\", \"id31\"]\n",
    ")"
   ]
  },
  {
   "cell_type": "code",
   "execution_count": 30,
   "id": "19e5e022",
   "metadata": {},
   "outputs": [],
   "source": [
    "from sklearn.datasets import fetch_20newsgroups\n",
    "newsgroups_train = fetch_20newsgroups(subset='train')"
   ]
  },
  {
   "cell_type": "code",
   "execution_count": 31,
   "id": "c56493ac",
   "metadata": {},
   "outputs": [],
   "source": [
    "doc_lists=[]\n",
    "metda_list=[]\n",
    "for i in newsgroups_train['data'][:100]:\n",
    "    doc_lists.append(i)\n",
    "    metda_list.append({'len_of_doc':len(i)})"
   ]
  },
  {
   "cell_type": "code",
   "execution_count": 33,
   "id": "3460e092",
   "metadata": {},
   "outputs": [],
   "source": [
    "collection.add(\n",
    "    documents=doc_lists,\n",
    "#     embeddings=[[1.1, 2.3, 3.2], [4.5, 6.9, 4.4], [1.1, 2.3, 3.2]],\n",
    "    metadatas=metda_list,\n",
    "    ids=['id_{}'.format(i) for i in range(100)]\n",
    ")"
   ]
  },
  {
   "cell_type": "markdown",
   "id": "2f2f753c",
   "metadata": {},
   "source": [
    "select 10 records"
   ]
  },
  {
   "cell_type": "code",
   "execution_count": 34,
   "id": "35a9243d",
   "metadata": {},
   "outputs": [
    {
     "data": {
      "text/plain": [
       "{'ids': ['id1', 'id2'],\n",
       " 'embeddings': array([[-7.27678509e-03, -3.58610414e-02, -5.85470051e-02,\n",
       "          4.30398919e-02,  2.56231036e-02, -2.53969394e-02,\n",
       "          3.37159522e-02,  3.43396189e-03, -2.63475925e-02,\n",
       "         -4.61397991e-02,  8.30679685e-02, -6.42239768e-03,\n",
       "         -3.55973691e-02, -3.96921635e-02,  4.66601700e-02,\n",
       "          2.61252634e-02,  8.53319243e-02, -1.68907885e-02,\n",
       "         -1.70462276e-03, -1.81527901e-02,  6.35295585e-02,\n",
       "         -3.71037200e-02,  5.74298874e-02,  2.37502102e-02,\n",
       "         -4.89793792e-02,  3.40397581e-02,  4.02286369e-03,\n",
       "          6.53342456e-02,  6.25966191e-02, -1.67348072e-01,\n",
       "          7.33717456e-02,  9.65449214e-02, -2.70988718e-02,\n",
       "          6.61829999e-03, -8.19215104e-02, -2.82600895e-02,\n",
       "          3.99508812e-02, -9.23850313e-02, -9.49947312e-02,\n",
       "         -1.11495787e-02,  3.19334329e-03,  3.37751233e-03,\n",
       "         -1.56492591e-02, -4.09619361e-02,  3.89017239e-02,\n",
       "          1.65557954e-02,  4.70884219e-02, -7.38915289e-03,\n",
       "         -7.11860275e-03,  2.30821911e-02, -3.55558619e-02,\n",
       "         -6.27329282e-05, -6.59237057e-02, -9.98219475e-03,\n",
       "          6.43722666e-03,  7.59149045e-02, -3.45923789e-02,\n",
       "          3.16034555e-02, -3.06914225e-02,  1.05985031e-02,\n",
       "          2.78221723e-02, -1.48342242e-02, -5.44457361e-02,\n",
       "          2.57862601e-02,  9.11963284e-02,  1.70466676e-02,\n",
       "          7.95546323e-02, -9.37469397e-03, -1.30744193e-05,\n",
       "          3.44928615e-02, -3.47983837e-02, -2.93381382e-02,\n",
       "         -1.38700381e-03,  3.30329761e-02, -1.34494137e-02,\n",
       "         -9.63459257e-03, -3.34828645e-02,  1.23451473e-02,\n",
       "          8.88766944e-02, -4.21736017e-02,  3.46254706e-02,\n",
       "         -2.90216580e-02, -8.96959193e-03, -1.02313189e-02,\n",
       "         -6.53291568e-02, -1.61797870e-02, -3.63659896e-02,\n",
       "          3.27092782e-02, -3.19735892e-02,  2.51906496e-02,\n",
       "          6.98754517e-03,  1.40659465e-03,  7.57802576e-02,\n",
       "          3.12780365e-02, -3.64085957e-02,  3.39316241e-02,\n",
       "          1.14565618e-01,  1.32736180e-03,  3.71129699e-02,\n",
       "          9.19497907e-02,  9.71390808e-04,  1.31160812e-02,\n",
       "         -5.90085350e-02, -1.37313185e-02,  9.85193029e-02,\n",
       "          1.54172126e-02, -3.65073308e-02,  7.67675089e-03,\n",
       "          1.18936412e-01,  7.35703856e-02,  2.63149925e-02,\n",
       "         -4.37823050e-02, -3.51777785e-02, -3.03096622e-02,\n",
       "          6.48341402e-02,  7.03972206e-02,  6.58259615e-02,\n",
       "          8.27516243e-03,  3.38009074e-02,  5.22974879e-03,\n",
       "          3.26747596e-02, -3.26707438e-02, -4.94851433e-02,\n",
       "          1.40552782e-02, -4.16682996e-02, -4.58912179e-02,\n",
       "         -9.47296619e-02, -8.32498691e-34,  1.96631216e-02,\n",
       "         -4.01937030e-03, -1.41560938e-02,  7.48311728e-02,\n",
       "          1.05770892e-02, -6.20161742e-02,  9.31887031e-02,\n",
       "          2.12205369e-02,  1.90448668e-02, -7.24507496e-02,\n",
       "         -6.38400093e-02, -5.76663055e-02, -3.35003398e-02,\n",
       "          2.98701208e-02,  1.10904425e-01, -1.09812543e-01,\n",
       "          2.18487661e-02, -8.68251920e-03,  9.24791768e-02,\n",
       "         -3.88677120e-02, -1.74944177e-02,  5.50319701e-02,\n",
       "          2.38581356e-02, -2.71054786e-02,  1.11749016e-01,\n",
       "          8.13496560e-02,  3.53088342e-02, -7.54445568e-02,\n",
       "          1.33957833e-01,  2.45145913e-02,  8.30033869e-02,\n",
       "         -7.76182562e-02, -5.36579341e-02,  1.11122606e-02,\n",
       "          7.29551390e-02, -6.77348152e-02, -9.65003893e-02,\n",
       "         -1.75814871e-02, -2.44818125e-02, -2.85275280e-02,\n",
       "         -3.66051048e-02,  9.65627655e-03, -1.32882997e-05,\n",
       "          2.59354077e-02, -7.03147426e-02, -9.53957140e-02,\n",
       "          2.13773809e-02,  4.69625853e-02,  6.39365762e-02,\n",
       "         -2.61433646e-02, -1.93182528e-02,  4.10263129e-02,\n",
       "         -1.00239262e-01,  1.06641062e-01, -2.11944245e-02,\n",
       "          2.78294589e-02,  1.50399664e-02,  2.33168919e-02,\n",
       "          1.86924338e-02,  7.00520584e-03, -5.26179047e-03,\n",
       "          3.70513834e-02,  1.68422237e-02,  5.57744130e-02,\n",
       "          2.58019995e-02, -1.39228823e-02, -2.52247993e-02,\n",
       "          8.64097197e-03, -1.64841842e-02, -7.48754293e-03,\n",
       "         -4.87328917e-02, -1.93374474e-02,  1.00187242e-01,\n",
       "          6.79033175e-02, -2.40010321e-02, -7.97836948e-03,\n",
       "          4.00738753e-02, -4.58584912e-02, -3.38857248e-02,\n",
       "         -5.31995110e-02, -6.35762960e-02,  2.78128479e-02,\n",
       "         -5.65616861e-02, -3.55236530e-02, -1.63338296e-02,\n",
       "         -1.78155992e-02,  1.74320713e-02, -1.40547737e-01,\n",
       "         -3.51695009e-02,  8.70989040e-02, -5.41182570e-02,\n",
       "         -1.20012062e-02,  5.67328073e-02, -2.49766763e-02,\n",
       "         -3.54442038e-02,  3.47103209e-34, -7.11544305e-02,\n",
       "         -2.24617347e-02, -1.84390955e-02,  5.87681718e-02,\n",
       "         -2.05740519e-03, -1.65842284e-05,  1.49526307e-03,\n",
       "          3.31111066e-02, -8.15007836e-02,  1.08394437e-01,\n",
       "          3.45575139e-02,  2.15394162e-02,  1.16579339e-01,\n",
       "          2.77746525e-02,  5.18566146e-02,  1.64401401e-02,\n",
       "          9.02355239e-02, -6.59795618e-03,  1.29266549e-03,\n",
       "         -1.81777682e-02,  5.85218072e-02,  7.73128122e-02,\n",
       "         -1.01678083e-02,  9.50451358e-04, -4.30044010e-02,\n",
       "          8.30072090e-02,  3.73931043e-02, -1.69044640e-02,\n",
       "         -6.35773176e-03,  9.14738029e-02,  7.00865537e-02,\n",
       "         -1.33656571e-02, -6.93879947e-02, -3.32412161e-02,\n",
       "         -3.97895239e-02,  1.84357986e-02,  4.59352732e-02,\n",
       "          9.52014886e-03, -7.84420893e-02, -8.20974186e-02,\n",
       "          1.49631239e-02, -2.29961239e-02, -2.57133506e-03,\n",
       "          1.47108108e-01, -1.06227798e-02, -1.00895045e-02,\n",
       "          1.07020396e-03,  3.75388488e-02,  5.78460768e-02,\n",
       "          2.96393745e-02, -9.72394273e-02, -3.59904803e-02,\n",
       "         -2.37373170e-02, -6.18964713e-03, -3.53288315e-02,\n",
       "         -4.37019281e-02, -2.62718052e-02, -7.82835111e-02,\n",
       "         -5.43163083e-02, -1.40876910e-02,  6.73277900e-02,\n",
       "         -5.25234640e-02, -3.46092507e-02, -7.16502443e-02,\n",
       "         -4.93219309e-03, -6.49162158e-02, -1.58600546e-02,\n",
       "         -5.95409609e-03, -8.11870024e-02,  7.47481873e-03,\n",
       "          2.65343823e-02, -3.84633914e-02, -6.79940879e-02,\n",
       "          2.29263473e-02, -4.15300839e-02, -3.71937938e-02,\n",
       "         -7.73516521e-02,  3.16303037e-02, -7.81559572e-03,\n",
       "         -5.83483018e-02, -4.32166010e-02,  3.27528715e-02,\n",
       "          2.31808815e-02,  4.30456474e-02,  3.19534466e-02,\n",
       "         -6.28896579e-02,  9.41244736e-02,  1.11148521e-01,\n",
       "         -2.48341635e-02,  1.88924503e-02,  2.88792215e-02,\n",
       "          3.19602266e-02, -7.09106121e-03,  4.18061167e-02,\n",
       "         -6.91072829e-03, -1.54513113e-08, -3.71381678e-02,\n",
       "         -7.57073537e-02,  1.15180500e-01, -2.32817344e-02,\n",
       "          7.70390872e-03,  1.25699788e-02, -9.25870761e-02,\n",
       "          4.07268479e-02,  2.63905339e-02, -2.65256874e-02,\n",
       "         -6.50897017e-03,  2.16929726e-02, -7.04952478e-02,\n",
       "         -2.66451039e-03,  6.71366751e-02, -1.20077897e-02,\n",
       "         -8.05496201e-02,  3.86287794e-02, -4.48469892e-02,\n",
       "         -1.54591575e-01, -1.93815138e-02, -6.39878362e-02,\n",
       "         -6.80576451e-03, -2.53430381e-02,  7.16357306e-02,\n",
       "          2.94553991e-02, -1.15088150e-02,  7.51845613e-02,\n",
       "          1.67418383e-02,  3.37485690e-03, -4.34405915e-03,\n",
       "         -1.44947758e-02, -1.02586253e-02, -1.54481055e-02,\n",
       "          3.80677506e-02, -2.88546402e-02,  2.44678017e-02,\n",
       "          2.59623062e-02,  6.20584525e-02, -9.94587131e-03,\n",
       "         -1.33835804e-02, -8.27638339e-03,  3.25762369e-02,\n",
       "          1.20679699e-01, -3.81371286e-03,  2.87366612e-03,\n",
       "          6.91505373e-02, -6.70039281e-02,  8.17271229e-03,\n",
       "         -1.28601417e-01, -4.53003459e-02, -5.06380089e-02,\n",
       "          6.50830707e-03,  3.68671939e-02,  7.58218300e-03,\n",
       "          6.44364879e-02, -3.99973206e-02,  4.24405597e-02,\n",
       "         -1.59066450e-02, -9.30377282e-03,  1.03830479e-01,\n",
       "          3.33316484e-03, -6.79324493e-02, -8.59549921e-03],\n",
       "        [-5.91722764e-02,  3.08862664e-02,  5.78770339e-02,\n",
       "          4.60087974e-03,  2.24760710e-03, -6.81990907e-02,\n",
       "         -9.44095664e-03,  8.97703916e-02,  2.83961315e-02,\n",
       "          1.52720325e-02, -4.39045951e-04,  3.35220136e-02,\n",
       "          3.03734299e-02, -3.33855744e-03, -2.59015653e-02,\n",
       "          3.45766661e-03, -5.75678423e-02,  1.13784261e-02,\n",
       "         -1.30206754e-03,  4.78397533e-02, -2.89197359e-02,\n",
       "          9.84526202e-02,  4.97383391e-03, -5.92892729e-02,\n",
       "         -5.82087366e-03,  3.72243375e-02, -1.01161741e-01,\n",
       "         -2.03489177e-02, -1.40001690e-02, -8.41843784e-02,\n",
       "          4.23968844e-02,  5.31254038e-02, -3.41021381e-02,\n",
       "          2.19905842e-03, -1.49376886e-02, -1.21115344e-02,\n",
       "          8.27408507e-02, -4.72952612e-03, -4.73429859e-02,\n",
       "          2.34249998e-02, -3.99337709e-03, -4.24366184e-02,\n",
       "         -3.01218145e-02, -2.31617820e-02,  6.36371970e-02,\n",
       "         -3.43389697e-02, -1.37776984e-02,  3.24826986e-02,\n",
       "          3.45068648e-02,  1.03886232e-01, -1.62120089e-01,\n",
       "         -8.20603073e-02, -4.00670841e-02,  2.09496021e-02,\n",
       "          3.71570140e-02,  6.87629506e-02, -1.34128425e-02,\n",
       "          6.29935563e-02, -4.88624685e-02, -3.77459489e-02,\n",
       "          1.86704360e-02,  3.06401066e-02, -7.42135495e-02,\n",
       "          6.24944568e-02,  5.57829663e-02,  2.35786028e-02,\n",
       "          4.98566916e-03,  5.28224162e-04, -1.58580299e-02,\n",
       "         -1.41671868e-02, -1.07430987e-01,  4.52026352e-02,\n",
       "          3.89385261e-02, -5.42840101e-02,  1.17626982e-02,\n",
       "         -5.99009022e-02, -7.60695385e-03, -1.18246591e-02,\n",
       "          4.72057760e-02, -1.19437195e-01,  3.46011221e-02,\n",
       "         -1.33986585e-02, -3.47940028e-02,  2.45570205e-04,\n",
       "         -1.07625879e-01,  1.30754011e-02,  2.40716077e-02,\n",
       "         -2.30318699e-02, -6.53791800e-02,  1.60010308e-02,\n",
       "          1.75097678e-02, -8.51069540e-02,  1.08036533e-01,\n",
       "          1.80805679e-02, -1.01167500e-01,  3.53149660e-02,\n",
       "          1.44408597e-02, -1.25942398e-02,  5.10868803e-02,\n",
       "          1.76328346e-01, -4.42849696e-02,  9.44429357e-03,\n",
       "         -4.92818048e-03, -3.43093239e-02,  5.27952574e-02,\n",
       "         -7.22658038e-02, -5.11306264e-02, -9.36487541e-02,\n",
       "          1.64135937e-02,  3.27719538e-03,  6.23223521e-02,\n",
       "          1.53263146e-02, -1.39010757e-01, -3.06585673e-02,\n",
       "          3.04253008e-02,  1.30789444e-01,  1.59943923e-02,\n",
       "          2.44292468e-02,  5.06576300e-02,  3.37680914e-02,\n",
       "         -7.01942015e-03, -2.32179859e-03, -4.58634980e-02,\n",
       "         -6.05109744e-02, -5.28768003e-02, -8.03314671e-02,\n",
       "          9.09054354e-02, -3.11968229e-33,  1.27152689e-02,\n",
       "         -6.64045066e-02,  1.21860048e-02,  1.47197917e-01,\n",
       "          5.19291386e-02,  1.13288276e-02, -2.43685655e-02,\n",
       "         -1.06837088e-02, -8.19048882e-02, -4.96806949e-02,\n",
       "         -1.30085170e-01,  2.03782115e-02, -4.68338132e-02,\n",
       "         -5.88690350e-03,  3.63963991e-02, -2.51631681e-02,\n",
       "         -1.23140272e-02,  1.00623429e-01,  9.57558805e-04,\n",
       "          3.91496792e-02,  4.09160480e-02,  5.95589727e-02,\n",
       "          1.84938777e-02,  2.96526290e-02,  6.34403676e-02,\n",
       "          6.94915578e-02,  3.14106531e-02, -1.06754407e-01,\n",
       "          7.68258050e-02,  3.62491012e-02, -5.30831292e-02,\n",
       "         -1.63683780e-02,  1.01763094e-02,  3.04074977e-02,\n",
       "         -1.51319895e-02, -1.84945520e-02, -5.81071042e-02,\n",
       "         -4.03849334e-02,  8.50645453e-03,  2.73242518e-02,\n",
       "         -5.36374077e-02,  4.71195430e-02,  5.85846491e-02,\n",
       "         -5.79938106e-03, -5.14077209e-03, -6.18339255e-02,\n",
       "          4.58445884e-02,  9.42761265e-03,  1.84376910e-02,\n",
       "          2.65437141e-02,  2.94543095e-02,  1.49891237e-02,\n",
       "         -3.43548544e-02,  4.48667035e-02,  2.84432508e-02,\n",
       "         -6.99049830e-02,  1.62092112e-02,  3.51966470e-02,\n",
       "          5.48469871e-02,  4.03018817e-02,  5.37730642e-02,\n",
       "          6.52516261e-02,  9.27349646e-03, -2.07487624e-02,\n",
       "         -6.51086494e-02, -5.19221574e-02, -3.56527194e-02,\n",
       "          3.43363546e-02,  1.43880937e-02,  7.30423257e-02,\n",
       "         -3.75005044e-02,  1.22201862e-02,  4.20361049e-02,\n",
       "          4.09605689e-02,  8.58058259e-02, -5.33841997e-02,\n",
       "          3.47047597e-02, -6.05490319e-02, -5.94124086e-02,\n",
       "         -2.89454199e-02, -1.12925939e-01, -1.07425069e-02,\n",
       "         -2.80187819e-02,  4.96009849e-02, -4.50551547e-02,\n",
       "         -3.96803059e-02, -6.43951213e-03, -4.64684404e-02,\n",
       "         -2.90672220e-02, -2.56606191e-02, -3.41313593e-02,\n",
       "          6.30925223e-02, -3.31729837e-02, -5.67678399e-02,\n",
       "          4.09633033e-02,  1.92466298e-33, -2.75640152e-02,\n",
       "         -7.06084669e-02, -3.70856300e-02,  6.02820665e-02,\n",
       "         -9.27624851e-03,  2.71494854e-02,  1.04854060e-02,\n",
       "          8.08163956e-02,  1.29575562e-02,  6.48612231e-02,\n",
       "          4.59902138e-02,  2.04805490e-02,  7.18555897e-02,\n",
       "         -2.56759822e-02,  1.99030675e-02, -1.94619261e-02,\n",
       "          5.06067090e-03, -4.14358564e-02, -7.54570216e-03,\n",
       "          6.27596602e-02,  1.96869653e-02, -1.08630136e-02,\n",
       "         -2.10117716e-02,  2.51398720e-02,  1.45483082e-02,\n",
       "          5.37734944e-03,  1.43186599e-02, -9.68576595e-03,\n",
       "         -2.09393669e-02, -4.03645374e-02,  3.03128045e-02,\n",
       "          2.56417021e-02, -1.42675415e-01,  2.23616567e-02,\n",
       "         -2.52469967e-04,  4.80431989e-02,  2.71826657e-03,\n",
       "          2.72079781e-02, -6.71009719e-02, -5.07244654e-02,\n",
       "          1.11343957e-01,  1.89550258e-02, -2.40508057e-02,\n",
       "          9.16007310e-02, -5.04660159e-02,  1.90653233e-03,\n",
       "          3.83477770e-02,  1.37202227e-02,  2.80767754e-02,\n",
       "          6.22037873e-02, -7.32707158e-02, -1.25635089e-02,\n",
       "          4.02024016e-02, -2.85702068e-02, -5.34625649e-02,\n",
       "         -6.03777654e-02, -6.57013208e-02, -8.74968842e-02,\n",
       "         -5.00807650e-02,  5.73563464e-02,  3.09678689e-02,\n",
       "          7.59865576e-03, -5.76413088e-02,  7.68491998e-02,\n",
       "         -4.89899702e-02, -3.26543450e-02, -7.80101493e-02,\n",
       "          4.92007807e-02, -9.68612880e-02,  1.02780581e-01,\n",
       "         -9.74029710e-04, -1.54318083e-02, -1.43805500e-02,\n",
       "         -3.96659831e-03,  3.18195857e-02, -3.69198946e-03,\n",
       "         -7.44377598e-02, -2.81967893e-02, -3.60222235e-02,\n",
       "         -4.57228534e-02,  5.24121523e-02, -4.42696363e-02,\n",
       "          4.92610298e-02,  7.84765258e-02,  3.09395306e-02,\n",
       "          2.80124433e-02,  6.46935701e-02,  4.75232080e-02,\n",
       "         -5.46055399e-02,  3.03841140e-02, -1.47699136e-02,\n",
       "          4.57206964e-02, -1.27444724e-02,  4.40383367e-02,\n",
       "         -1.66575816e-02, -1.42573491e-08, -6.48527145e-02,\n",
       "          2.09855102e-02,  7.44627118e-02,  4.18840628e-03,\n",
       "         -1.67209152e-02, -2.76042186e-02, -1.09679818e-01,\n",
       "          1.33987546e-01, -5.03189396e-03,  2.79807728e-02,\n",
       "         -4.30066362e-02,  1.56760067e-02,  2.80326661e-02,\n",
       "         -6.63070977e-02,  5.08843660e-02,  1.04180984e-01,\n",
       "          4.94045727e-02,  3.48500116e-03, -6.22695163e-02,\n",
       "         -4.80894670e-02, -3.04832701e-02, -2.83275824e-02,\n",
       "          1.66298337e-02, -2.70004142e-02,  3.16772237e-02,\n",
       "          4.96453941e-02, -5.35081066e-02,  6.06942996e-02,\n",
       "          3.07451226e-02, -3.91574539e-02,  4.77952920e-02,\n",
       "          5.71081080e-02, -7.09272996e-02,  7.96760619e-03,\n",
       "          6.04202002e-02, -1.16727073e-02,  3.97244729e-02,\n",
       "          6.00439217e-03, -5.32438681e-02, -7.39309937e-03,\n",
       "          2.97842771e-02,  5.33851758e-02, -1.02626039e-02,\n",
       "         -3.16916616e-03,  2.43521333e-02, -3.32579017e-02,\n",
       "          8.36986229e-02, -5.39422967e-02,  1.76379681e-02,\n",
       "         -1.16848566e-01, -4.61795600e-03, -7.18087144e-03,\n",
       "          8.88207555e-02,  1.84305850e-02,  1.70903690e-02,\n",
       "          7.71747157e-02,  2.43850406e-02,  1.86377894e-02,\n",
       "         -3.44927907e-02, -9.97350644e-03,  4.59576696e-02,\n",
       "          7.56630749e-02,  6.91036582e-02,  4.53670807e-02]]),\n",
       " 'documents': ['som2', 'doc2'],\n",
       " 'uris': None,\n",
       " 'included': ['metadatas', 'documents', 'embeddings'],\n",
       " 'data': None,\n",
       " 'metadatas': [{'verse': '16', 'chapter': '3'},\n",
       "  {'verse': '5', 'chapter': '3'}]}"
      ]
     },
     "execution_count": 34,
     "metadata": {},
     "output_type": "execute_result"
    }
   ],
   "source": [
    "collection.peek(2) # returns a list of the first 10 items in the collection"
   ]
  },
  {
   "cell_type": "markdown",
   "id": "0ec12ac3",
   "metadata": {},
   "source": [
    "Get number of documents in a collection"
   ]
  },
  {
   "cell_type": "code",
   "execution_count": 35,
   "id": "4af89ffe",
   "metadata": {},
   "outputs": [
    {
     "data": {
      "text/plain": [
       "106"
      ]
     },
     "execution_count": 35,
     "metadata": {},
     "output_type": "execute_result"
    }
   ],
   "source": [
    "collection.count() # returns the number of items in the collection"
   ]
  },
  {
   "cell_type": "code",
   "execution_count": 37,
   "id": "be900f6f",
   "metadata": {},
   "outputs": [
    {
     "data": {
      "text/plain": [
       "Collection(name=New_Collection_Name)"
      ]
     },
     "execution_count": 37,
     "metadata": {},
     "output_type": "execute_result"
    }
   ],
   "source": [
    "collection"
   ]
  },
  {
   "cell_type": "markdown",
   "id": "4b065662",
   "metadata": {},
   "source": [
    "Define a alternate distance function"
   ]
  },
  {
   "cell_type": "code",
   "execution_count": 38,
   "id": "88f55196",
   "metadata": {},
   "outputs": [],
   "source": [
    "collection = client.create_collection(\n",
    "        name=\"collection_name\",\n",
    "        metadata={\"hnsw:space\": \"cosine\"} # l2 is the default\n",
    "    )"
   ]
  },
  {
   "cell_type": "markdown",
   "id": "80276028",
   "metadata": {},
   "source": [
    "Query the collections"
   ]
  },
  {
   "cell_type": "code",
   "execution_count": 41,
   "id": "b59c7384",
   "metadata": {},
   "outputs": [
    {
     "data": {
      "text/plain": [
       "{'ids': [[], []],\n",
       " 'embeddings': None,\n",
       " 'documents': [[], []],\n",
       " 'uris': None,\n",
       " 'included': ['metadatas', 'documents', 'distances'],\n",
       " 'data': None,\n",
       " 'metadatas': [[], []],\n",
       " 'distances': [[], []]}"
      ]
     },
     "execution_count": 41,
     "metadata": {},
     "output_type": "execute_result"
    }
   ],
   "source": [
    "collection.query(\n",
    "    query_embeddings=[[11.1, 12.1, 13.1], [1.1, 2.3, 3.2]],\n",
    "    n_results=10,\n",
    "    where={\"metadata_field\": \"is_equal_to_this\"},\n",
    "    where_document={\"$contains\": \"search_string\"}\n",
    ")"
   ]
  },
  {
   "cell_type": "markdown",
   "id": "f31d6181",
   "metadata": {},
   "source": [
    "et also supports the where and where_document filters. If no ids are supplied, it will return all items in the collection that match the where and where_document filters.\n",
    "\n",
    "Choosing which data is returned#\n",
    "\n",
    "When using get or query you can use the include parameter to specify which data you want returned - any of embeddings, documents, metadatas, and for query, distances. By default, Chroma will return the documents, metadatas and in the case of query, the distances of the results. embeddings are excluded by default for performance and the ids are always returned. You can specify which of these you want returned by passing an array of included field names to the includes parameter of the query or get method."
   ]
  },
  {
   "cell_type": "code",
   "execution_count": 42,
   "id": "63894ff6",
   "metadata": {},
   "outputs": [
    {
     "data": {
      "text/plain": [
       "{'ids': [],\n",
       " 'embeddings': None,\n",
       " 'documents': [],\n",
       " 'uris': None,\n",
       " 'included': ['documents'],\n",
       " 'data': None,\n",
       " 'metadatas': None}"
      ]
     },
     "execution_count": 42,
     "metadata": {},
     "output_type": "execute_result"
    }
   ],
   "source": [
    "collection.get(\n",
    "    include=[\"documents\"]\n",
    ")"
   ]
  },
  {
   "cell_type": "code",
   "execution_count": 44,
   "id": "66e2678c",
   "metadata": {},
   "outputs": [
    {
     "data": {
      "text/plain": [
       "{'ids': [[], []],\n",
       " 'embeddings': None,\n",
       " 'documents': [[], []],\n",
       " 'uris': None,\n",
       " 'included': ['documents'],\n",
       " 'data': None,\n",
       " 'metadatas': None,\n",
       " 'distances': None}"
      ]
     },
     "execution_count": 44,
     "metadata": {},
     "output_type": "execute_result"
    }
   ],
   "source": [
    "collection.query(\n",
    "    query_embeddings=[[11.1, 12.1, 13.1], [1.1, 2.3, 3.2]],\n",
    "    include=[\"documents\"]\n",
    ")"
   ]
  },
  {
   "cell_type": "markdown",
   "id": "27ed3f7d",
   "metadata": {},
   "source": [
    "Using Where filters#"
   ]
  },
  {
   "cell_type": "markdown",
   "id": "4fa5f078",
   "metadata": {},
   "source": [
    "Chroma supports filtering queries by metadata and document contents. The where filter is used to filter by metadata, and the where_document filter is used to filter by document contents."
   ]
  },
  {
   "cell_type": "markdown",
   "id": "608ae0a2",
   "metadata": {},
   "source": [
    "Filtering by metadata#"
   ]
  },
  {
   "cell_type": "markdown",
   "id": "396f2b93",
   "metadata": {},
   "source": [
    "In order to filter on metadata, you must supply a where filter dictionary to the query. The dictionary must have the following structure:\n",
    "\n",
    "{ \"metadata_field\": { : } }\n",
    "\n",
    "Filtering metadata supports the following operators:\n",
    "* $eq - equal to (string, int, float)\n",
    "\n",
    "$ne - not equal to (string, int, float)\n",
    "\n",
    "$gt - greater than (int, float)\n",
    "\n",
    "$gte - greater than or equal to (int, float)\n",
    "\n",
    "$lt - less than (int, float)\n",
    "\n",
    "$lte - less than or equal to (int, float)"
   ]
  },
  {
   "cell_type": "markdown",
   "id": "399a3bb9",
   "metadata": {},
   "source": [
    "Filtering for a search_string"
   ]
  },
  {
   "cell_type": "markdown",
   "id": "75af650e",
   "metadata": {},
   "source": [
    "{ \"$contains\": \"search_string\" }"
   ]
  },
  {
   "cell_type": "markdown",
   "id": "30805b99",
   "metadata": {},
   "source": [
    "Using logical operators#"
   ]
  },
  {
   "cell_type": "markdown",
   "id": "fdc0940f",
   "metadata": {},
   "source": [
    "You can also use the logical operators \n",
    "or to combine multiple filters.\n",
    "\n",
    "An $and operator will return results that match all of the filters in the list.\n",
    "\n",
    "{ \"$and\": [ { \"metadata_field\": { : } }, { \"metadata_field\": { : } } ] }\n",
    "\n",
    "{ \"$or\": [ { \"metadata_field\": { : } }, { \"metadata_field\": { : } } ] }"
   ]
  },
  {
   "cell_type": "markdown",
   "id": "69888583",
   "metadata": {},
   "source": [
    "Update"
   ]
  },
  {
   "cell_type": "code",
   "execution_count": null,
   "id": "6095523f",
   "metadata": {},
   "outputs": [],
   "source": [
    "collection.update(\n",
    "    ids=['id_{}'.format(i) for i in range(100)],\n",
    "    embeddings=emb_fun(doc_lists),\n",
    "    metadatas=metda_list,\n",
    "    documents=doc_lists,\n",
    ")"
   ]
  },
  {
   "cell_type": "markdown",
   "id": "33e68b43",
   "metadata": {},
   "source": [
    "Find and Update if not found add"
   ]
  },
  {
   "cell_type": "code",
   "execution_count": null,
   "id": "e8358039",
   "metadata": {},
   "outputs": [],
   "source": [
    "collection.upsert(\n",
    "    ids=[\"id1\", \"id2\", \"id3\", ...],\n",
    "    embeddings=[[1.1, 2.3, 3.2], [4.5, 6.9, 4.4], [1.1, 2.3, 3.2], ...],\n",
    "    metadatas=[{\"chapter\": \"3\", \"verse\": \"16\"}, {\"chapter\": \"3\", \"verse\": \"5\"}, {\"chapter\": \"29\", \"verse\": \"11\"}, ...],\n",
    "    documents=[\"doc1\", \"doc2\", \"doc3\", ...],\n",
    ")"
   ]
  },
  {
   "cell_type": "markdown",
   "id": "31fe7d56",
   "metadata": {},
   "source": [
    "Deleting data from a collection#"
   ]
  },
  {
   "cell_type": "markdown",
   "id": "9c12561d",
   "metadata": {},
   "source": [
    "Chroma supports deleting items from a collection by id using .delete. The embeddings, documents, and metadata associated with each item will be deleted. ⚠️ Naturally, this is a destructive operation, and cannot be undone."
   ]
  },
  {
   "cell_type": "code",
   "execution_count": null,
   "id": "d88daf62",
   "metadata": {},
   "outputs": [],
   "source": [
    "collection.delete(\n",
    "    ids=[\"id1\", \"id2\", \"id3\",...],\n",
    "\twhere={\"chapter\": \"20\"}\n",
    ")"
   ]
  }
 ],
 "metadata": {
  "kernelspec": {
   "display_name": ".venv",
   "language": "python",
   "name": "python3"
  },
  "language_info": {
   "codemirror_mode": {
    "name": "ipython",
    "version": 3
   },
   "file_extension": ".py",
   "mimetype": "text/x-python",
   "name": "python",
   "nbconvert_exporter": "python",
   "pygments_lexer": "ipython3",
   "version": "3.12.4"
  }
 },
 "nbformat": 4,
 "nbformat_minor": 5
}
