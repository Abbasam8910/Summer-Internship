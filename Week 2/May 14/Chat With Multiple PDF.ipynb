{
 "cells": [
  {
   "cell_type": "markdown",
   "id": "d2a70477",
   "metadata": {},
   "source": [
    "Chat With Multiple PDF Documents With Langchain And Google Gemini Pro or using chromadb"
   ]
  },
  {
   "cell_type": "code",
   "execution_count": null,
   "id": "cb117a8a",
   "metadata": {},
   "outputs": [
    {
     "name": "stdout",
     "output_type": "stream",
     "text": [
      "Note: you may need to restart the kernel to use updated packages.\n"
     ]
    },
    {
     "name": "stderr",
     "output_type": "stream",
     "text": [
      "ERROR: Could not open requirements file: [Errno 2] No such file or directory: 'requirements'\n"
     ]
    }
   ],
   "source": [
    "pip install streamlit google-generativeai python-dotenv langchain PyPDF2 chromadb faiss-cpu langchain_google_genai"
   ]
  }
 ],
 "metadata": {
  "kernelspec": {
   "display_name": ".venv",
   "language": "python",
   "name": "python3"
  },
  "language_info": {
   "codemirror_mode": {
    "name": "ipython",
    "version": 3
   },
   "file_extension": ".py",
   "mimetype": "text/x-python",
   "name": "python",
   "nbconvert_exporter": "python",
   "pygments_lexer": "ipython3",
   "version": "3.12.4"
  }
 },
 "nbformat": 4,
 "nbformat_minor": 5
}
