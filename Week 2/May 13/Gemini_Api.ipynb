{
 "cells": [
  {
   "cell_type": "code",
   "execution_count": 2,
   "id": "e4ed5842",
   "metadata": {},
   "outputs": [
    {
     "name": "stdout",
     "output_type": "stream",
     "text": [
      "Requirement already satisfied: python-dotenv in d:\\# my learning\\coding\\summer-internship\\.venv\\lib\\site-packages (1.1.0)\n",
      "Note: you may need to restart the kernel to use updated packages.\n"
     ]
    }
   ],
   "source": [
    "pip install python-dotenv\n"
   ]
  },
  {
   "cell_type": "code",
   "execution_count": 8,
   "id": "0da5b865",
   "metadata": {},
   "outputs": [],
   "source": [
    "from dotenv import load_dotenv\n",
    "import os\n",
    "\n",
    "load_dotenv()\n",
    "\n",
    "api_key = os.getenv(\"API_KEY\")\n",
    "\n",
    "# print(api_key)"
   ]
  },
  {
   "cell_type": "code",
   "execution_count": 4,
   "id": "fcc7a10c",
   "metadata": {},
   "outputs": [
    {
     "name": "stdout",
     "output_type": "stream",
     "text": [
      "Note: you may need to restart the kernel to use updated packages.\n"
     ]
    }
   ],
   "source": [
    "pip install -q -U google-generativeai"
   ]
  },
  {
   "cell_type": "code",
   "execution_count": 5,
   "id": "e9183669",
   "metadata": {},
   "outputs": [
    {
     "name": "stderr",
     "output_type": "stream",
     "text": [
      "d:\\# My Learning\\Coding\\Summer-Internship\\.venv\\Lib\\site-packages\\tqdm\\auto.py:21: TqdmWarning: IProgress not found. Please update jupyter and ipywidgets. See https://ipywidgets.readthedocs.io/en/stable/user_install.html\n",
      "  from .autonotebook import tqdm as notebook_tqdm\n"
     ]
    }
   ],
   "source": [
    "import google.generativeai as genai"
   ]
  },
  {
   "cell_type": "code",
   "execution_count": 6,
   "id": "66e53e1a",
   "metadata": {},
   "outputs": [],
   "source": [
    "if 'api_key' not in globals():\n",
    "\tfrom dotenv import load_dotenv\n",
    "\timport os\n",
    "\tload_dotenv()\n",
    "\tapi_key = os.getenv(\"API_KEY\")\n",
    "\n",
    "genai.configure(api_key=api_key)"
   ]
  },
  {
   "cell_type": "code",
   "execution_count": 6,
   "id": "af62041b",
   "metadata": {},
   "outputs": [],
   "source": [
    "model = genai.GenerativeModel(\"gemini-1.5-flash\")"
   ]
  },
  {
   "cell_type": "markdown",
   "id": "959214b9",
   "metadata": {},
   "source": [
    "1. Text Generation"
   ]
  },
  {
   "cell_type": "code",
   "execution_count": 14,
   "id": "0c696029",
   "metadata": {},
   "outputs": [],
   "source": [
    "\n",
    "def generate_text(prompt):\n",
    "    return model.generate_content(prompt)"
   ]
  },
  {
   "cell_type": "markdown",
   "id": "b217baca",
   "metadata": {},
   "source": [
    "2. Text Summarization"
   ]
  },
  {
   "cell_type": "code",
   "execution_count": 8,
   "id": "16fef6e3",
   "metadata": {},
   "outputs": [],
   "source": [
    "def text_summarization(text):\n",
    "    return model.generate_content(f\"Summarize this:{text}\")"
   ]
  },
  {
   "cell_type": "markdown",
   "id": "a238d41a",
   "metadata": {},
   "source": [
    "3. Question Answering"
   ]
  },
  {
   "cell_type": "code",
   "execution_count": 9,
   "id": "8fdec1fb",
   "metadata": {},
   "outputs": [],
   "source": [
    "def question_answering(context, question):\n",
    "    return model.generate_content(f\"Question: {question} context: {context}\")"
   ]
  },
  {
   "cell_type": "markdown",
   "id": "c1a18d44",
   "metadata": {},
   "source": [
    "4. Sentiment Analysis"
   ]
  },
  {
   "cell_type": "code",
   "execution_count": 10,
   "id": "665a8f39",
   "metadata": {},
   "outputs": [],
   "source": [
    "def sentiment_analysis(text):\n",
    "    return model.generate_content(f\"Analyze the sentiment of this text: {text}\")"
   ]
  },
  {
   "cell_type": "markdown",
   "id": "51d1dfe8",
   "metadata": {},
   "source": [
    "5. Text Translation"
   ]
  },
  {
   "cell_type": "code",
   "execution_count": 11,
   "id": "d216162e",
   "metadata": {},
   "outputs": [],
   "source": [
    "def text_translation(text, target_language):\n",
    "    return model.generate_content(f\"Translate this text to {target_language}: {text}\")\n"
   ]
  },
  {
   "cell_type": "code",
   "execution_count": 16,
   "id": "92fa9c5e",
   "metadata": {},
   "outputs": [
    {
     "name": "stdout",
     "output_type": "stream",
     "text": [
      "That's the beginning of the classic pangram, \"The quick brown fox jumps over the lazy dog.\"  A pangram is a sentence that uses every letter of the alphabet.\n",
      "\n",
      "A quick brown fox leaps over a lazy dog.\n",
      "\n",
      "In the sentence \"The quick brown fox jumps over the lazy dog,\" the fox jumps over the **lazy dog**.\n",
      "\n",
      "The sentence \"The quick brown fox jumps over the lazy dog\" is neutral in sentiment.  It's a pangram (containing all letters of the alphabet) and doesn't express any positive or negative emotion.\n",
      "\n",
      "La rápida zorra marrón salta sobre el perro perezoso.\n",
      "\n"
     ]
    }
   ],
   "source": [
    "#1\n",
    "prompt=\"The Quick brown fox\"\n",
    "print(generate_text(prompt).text)\n",
    "\n",
    "#2\n",
    "text=\"The quick brown fox jumps over the lazy dog\"\n",
    "print(text_summarization(text).text)\n",
    "\n",
    "#3\n",
    "context=\"The quick brown fox jumps over the lazy dog\"\n",
    "question=\"what does the fox jump over\"\n",
    "print(question_answering(context,question).text)\n",
    "\n",
    "#4\n",
    "text=\"The quick brown fox jumps over the lazy dog\"\n",
    "print(sentiment_analysis(text).text)\n",
    "\n",
    "\n",
    "#5\n",
    "text=\"The quick brown fox jumps over the lazy dog\"\n",
    "target_language=\"es\"\n",
    "\n",
    "print(text_translation(text,target_language).text)"
   ]
  }
 ],
 "metadata": {
  "kernelspec": {
   "display_name": ".venv",
   "language": "python",
   "name": "python3"
  },
  "language_info": {
   "codemirror_mode": {
    "name": "ipython",
    "version": 3
   },
   "file_extension": ".py",
   "mimetype": "text/x-python",
   "name": "python",
   "nbconvert_exporter": "python",
   "pygments_lexer": "ipython3",
   "version": "3.12.4"
  }
 },
 "nbformat": 4,
 "nbformat_minor": 5
}
