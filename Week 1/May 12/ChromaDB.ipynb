{
 "cells": [
  {
   "cell_type": "markdown",
   "id": "01d8b8ae",
   "metadata": {},
   "source": [
    "<h3> ChromaDB Crash Course</h3>"
   ]
  },
  {
   "cell_type": "code",
   "execution_count": null,
   "id": "2ae562f0",
   "metadata": {},
   "outputs": [],
   "source": [
    "pip install chromadb"
   ]
  },
  {
   "cell_type": "markdown",
   "id": "fd3c6a25",
   "metadata": {},
   "source": [
    "Create a DB\n"
   ]
  },
  {
   "cell_type": "markdown",
   "id": "cf3cd69e",
   "metadata": {},
   "source": [
    "import chromadb \n",
    "chroma_"
   ]
  }
 ],
 "metadata": {
  "kernelspec": {
   "display_name": ".venv",
   "language": "python",
   "name": "python3"
  },
  "language_info": {
   "name": "python",
   "version": "3.12.4"
  }
 },
 "nbformat": 4,
 "nbformat_minor": 5
}
