{
 "cells": [
  {
   "cell_type": "markdown",
   "id": "01d8b8ae",
   "metadata": {},
   "source": [
    "<h3> ChromaDB Crash Course</h3>"
   ]
  },
  {
   "cell_type": "markdown",
   "id": "1d0999ce",
   "metadata": {},
   "source": [
    "<p style=\"font-size:16px\"> ChromaDB is a vector database that automatically computes and stores embeddings for text data. When a query is made, it compares the embeddings using distance metrics and returns the most relevant results.</p>"
   ]
  },
  {
   "cell_type": "code",
   "execution_count": null,
   "id": "2ae562f0",
   "metadata": {},
   "outputs": [],
   "source": [
    "pip install chromadb"
   ]
  },
  {
   "cell_type": "markdown",
   "id": "fd3c6a25",
   "metadata": {},
   "source": [
    "Create a DB\n"
   ]
  },
  {
   "cell_type": "code",
   "execution_count": 28,
   "id": "e633019c",
   "metadata": {},
   "outputs": [],
   "source": [
    "import chromadb \n",
    "chroma_client = chromadb.Client()"
   ]
  },
  {
   "cell_type": "markdown",
   "id": "4c377364",
   "metadata": {},
   "source": [
    "create collection"
   ]
  },
  {
   "cell_type": "code",
   "execution_count": 3,
   "id": "5b166ac0",
   "metadata": {},
   "outputs": [],
   "source": [
    "collection = chroma_client.create_collection(name=\"My_Collection\")"
   ]
  },
  {
   "cell_type": "markdown",
   "id": "cb5439cd",
   "metadata": {},
   "source": [
    "Add some text document to collection"
   ]
  },
  {
   "cell_type": "code",
   "execution_count": 13,
   "id": "8cc38132",
   "metadata": {},
   "outputs": [],
   "source": [
    "collection.add(\n",
    "    documents=[\n",
    "        \"This is a document about  \",\n",
    "        \"Welcome to this documente\"\n",
    "    ],\n",
    "    ids=['id1', 'id2']\n",
    ")"
   ]
  },
  {
   "cell_type": "markdown",
   "id": "a11bab0d",
   "metadata": {},
   "source": [
    "Query the collection"
   ]
  },
  {
   "cell_type": "code",
   "execution_count": 14,
   "id": "660c9eae",
   "metadata": {},
   "outputs": [
    {
     "name": "stdout",
     "output_type": "stream",
     "text": [
      "{'ids': [['id1', 'id2']], 'embeddings': None, 'documents': [['This is a sample document ', 'Welcome to this documente']], 'uris': None, 'included': ['metadatas', 'documents', 'distances'], 'data': None, 'metadatas': [[None, None]], 'distances': [[1.4456195831298828, 1.9398043155670166]]}\n"
     ]
    }
   ],
   "source": [
    "results=collection.query(\n",
    "    query_texts=[\"This is a sample query about hawaii\"], # chroma will embed this \n",
    "    n_results=2 # No of result to return\n",
    ")\n",
    "\n",
    "print(results)"
   ]
  },
  {
   "cell_type": "code",
   "execution_count": 15,
   "id": "d0642d31",
   "metadata": {},
   "outputs": [
    {
     "name": "stdout",
     "output_type": "stream",
     "text": [
      "{'ids': [['id1', 'id2']], 'embeddings': None, 'documents': [['This is a sample document ', 'Welcome to this documente']], 'uris': None, 'included': ['metadatas', 'documents', 'distances'], 'data': None, 'metadatas': [[None, None]], 'distances': [[1.4362506866455078, 1.9013142585754395]]}\n"
     ]
    }
   ],
   "source": [
    "results=collection.query(\n",
    "    query_texts=[\"This is a sample query about Orange\"], # chroma will embed this \n",
    "    n_results=2 # No of result to return\n",
    ")\n",
    "\n",
    "print(results)"
   ]
  },
  {
   "cell_type": "markdown",
   "id": "80c85033",
   "metadata": {},
   "source": [
    "Persist the data"
   ]
  },
  {
   "cell_type": "code",
   "execution_count": 16,
   "id": "757e557d",
   "metadata": {},
   "outputs": [],
   "source": [
    "client = chromadb.PersistentClient(path=\"./db/\")"
   ]
  },
  {
   "cell_type": "code",
   "execution_count": 17,
   "id": "076570e8",
   "metadata": {},
   "outputs": [
    {
     "data": {
      "text/plain": [
       "1747307273492404200"
      ]
     },
     "execution_count": 17,
     "metadata": {},
     "output_type": "execute_result"
    }
   ],
   "source": [
    "client.heartbeat()  # returns a nanosec heartbeat to make sure the client remain connected"
   ]
  },
  {
   "cell_type": "code",
   "execution_count": null,
   "id": "2d860245",
   "metadata": {},
   "outputs": [
    {
     "ename": "AuthorizationError",
     "evalue": "Reset is disabled by config",
     "output_type": "error",
     "traceback": [
      "\u001b[31m---------------------------------------------------------------------------\u001b[39m",
      "\u001b[31mAuthorizationError\u001b[39m                        Traceback (most recent call last)",
      "\u001b[36mCell\u001b[39m\u001b[36m \u001b[39m\u001b[32mIn[29]\u001b[39m\u001b[32m, line 1\u001b[39m\n\u001b[32m----> \u001b[39m\u001b[32m1\u001b[39m \u001b[43mclient\u001b[49m\u001b[43m.\u001b[49m\u001b[43mreset\u001b[49m\u001b[43m(\u001b[49m\u001b[43m)\u001b[49m\n",
      "\u001b[36mFile \u001b[39m\u001b[32md:\\# My Learning\\Coding\\Summer-Internship\\.venv\\Lib\\site-packages\\chromadb\\api\\client.py:403\u001b[39m, in \u001b[36mClient.reset\u001b[39m\u001b[34m(self)\u001b[39m\n\u001b[32m    401\u001b[39m \u001b[38;5;129m@override\u001b[39m\n\u001b[32m    402\u001b[39m \u001b[38;5;28;01mdef\u001b[39;00m\u001b[38;5;250m \u001b[39m\u001b[34mreset\u001b[39m(\u001b[38;5;28mself\u001b[39m) -> \u001b[38;5;28mbool\u001b[39m:\n\u001b[32m--> \u001b[39m\u001b[32m403\u001b[39m     \u001b[38;5;28;01mreturn\u001b[39;00m \u001b[38;5;28;43mself\u001b[39;49m\u001b[43m.\u001b[49m\u001b[43m_server\u001b[49m\u001b[43m.\u001b[49m\u001b[43mreset\u001b[49m\u001b[43m(\u001b[49m\u001b[43m)\u001b[49m\n",
      "\u001b[36mFile \u001b[39m\u001b[32md:\\# My Learning\\Coding\\Summer-Internship\\.venv\\Lib\\site-packages\\chromadb\\api\\rust.py:565\u001b[39m, in \u001b[36mRustBindingsAPI.reset\u001b[39m\u001b[34m(self)\u001b[39m\n\u001b[32m    563\u001b[39m \u001b[38;5;129m@override\u001b[39m\n\u001b[32m    564\u001b[39m \u001b[38;5;28;01mdef\u001b[39;00m\u001b[38;5;250m \u001b[39m\u001b[34mreset\u001b[39m(\u001b[38;5;28mself\u001b[39m) -> \u001b[38;5;28mbool\u001b[39m:\n\u001b[32m--> \u001b[39m\u001b[32m565\u001b[39m     \u001b[38;5;28;01mreturn\u001b[39;00m \u001b[38;5;28;43mself\u001b[39;49m\u001b[43m.\u001b[49m\u001b[43mbindings\u001b[49m\u001b[43m.\u001b[49m\u001b[43mreset\u001b[49m\u001b[43m(\u001b[49m\u001b[43m)\u001b[49m\n",
      "\u001b[31mAuthorizationError\u001b[39m: Reset is disabled by config"
     ]
    }
   ],
   "source": [
    "client.reset() # By simply runnin this will not work"
   ]
  },
  {
   "cell_type": "code",
   "execution_count": 30,
   "id": "271a5fe8",
   "metadata": {},
   "outputs": [],
   "source": [
    "from chromadb.config import DEFAULT_TENANT, DEFAULT_DATABASE, Settings"
   ]
  },
  {
   "cell_type": "code",
   "execution_count": 31,
   "id": "0f8463ff",
   "metadata": {},
   "outputs": [
    {
     "data": {
      "text/plain": [
       "('default_tenant', 'default_database')"
      ]
     },
     "execution_count": 31,
     "metadata": {},
     "output_type": "execute_result"
    }
   ],
   "source": [
    "DEFAULT_TENANT,DEFAULT_DATABASE"
   ]
  },
  {
   "cell_type": "code",
   "execution_count": 32,
   "id": "13790a46",
   "metadata": {},
   "outputs": [],
   "source": [
    "client = chromadb.PersistentClient(\n",
    "    path=\"./db2/\",\n",
    "    settings=Settings(\n",
    "                is_persistent = True,\n",
    "                persist_directory = \"/db2/\",\n",
    "                allow_reset = True,\n",
    "        anonymized_telemetry=False),\n",
    "    tenant=DEFAULT_TENANT,\n",
    "    database=DEFAULT_DATABASE,\n",
    ")\n",
    "\n",
    "# path - parameter must be a local path on the machine where Chroma is running. If the path does not exist, it will be created. The path can be relative or absolute. If the path is not specified, the default is ./chroma in the current working directory.\n",
    "# settings - Chroma settings object.\n",
    "# tenant - the tenant to use. Default is default_tenant.\n",
    "# database - the database to use. Default is default_database."
   ]
  },
  {
   "cell_type": "code",
   "execution_count": null,
   "id": "6f43f88a",
   "metadata": {},
   "outputs": [
    {
     "data": {
      "text/plain": [
       "True"
      ]
     },
     "execution_count": 33,
     "metadata": {},
     "output_type": "execute_result"
    }
   ],
   "source": [
    "client.reset()  # Now this will work"
   ]
  },
  {
   "cell_type": "markdown",
   "id": "b0bb5635",
   "metadata": {},
   "source": [
    "<b> Creating, Inspecting and Deleting Collection </b>\n",
    "\n",
    "<p>\n",
    "Chroma uses collection names in the url, so there are a few restrictions on naming them:\n",
    "\n",
    "- The length of the name must be between 3 and 63 characters.\n",
    "- The name must start and end with a lowercase letter or a digit, and it can contain dots, dashes, and underscores in between.\n",
    "- The name must not contain two consecutive dots.\n",
    "- The name must not be a valid IP address.</p>"
   ]
  },
  {
   "cell_type": "markdown",
   "id": "4a37d012",
   "metadata": {},
   "source": [
    "<italics>Chroma collections are created with a name and an optional embedding function. If you supply an embedding function, you must supply it every time you get the collection.</italics >"
   ]
  },
  {
   "cell_type": "code",
   "execution_count": 34,
   "id": "c288dc94",
   "metadata": {},
   "outputs": [],
   "source": [
    "from chromadb.utils import embedding_functions"
   ]
  },
  {
   "cell_type": "code",
   "execution_count": 37,
   "id": "c8aa173c",
   "metadata": {},
   "outputs": [
    {
     "name": "stderr",
     "output_type": "stream",
     "text": [
      "d:\\# My Learning\\Coding\\Summer-Internship\\.venv\\Lib\\site-packages\\tqdm\\auto.py:21: TqdmWarning: IProgress not found. Please update jupyter and ipywidgets. See https://ipywidgets.readthedocs.io/en/stable/user_install.html\n",
      "  from .autonotebook import tqdm as notebook_tqdm\n"
     ]
    }
   ],
   "source": [
    "emb_fun=embedding_functions.SentenceTransformerEmbeddingFunction()"
   ]
  },
  {
   "cell_type": "code",
   "execution_count": 38,
   "id": "6c7ac24b",
   "metadata": {},
   "outputs": [],
   "source": [
    "model_name = \"all-MiniLM-L6-v2\"\n",
    "emb_fun = embedding_functions.SentenceTransformerEmbeddingFunction(model_name=model_name)"
   ]
  },
  {
   "cell_type": "code",
   "execution_count": 48,
   "id": "17c01cce",
   "metadata": {},
   "outputs": [
    {
     "data": {
      "text/plain": [
       "[array([-5.73623739e-02, -1.16481781e-02, -1.22139952e-03,  2.09228769e-02,\n",
       "         2.38797851e-02, -3.77398245e-02, -2.04281565e-02, -2.06078868e-02,\n",
       "        -4.46448885e-02, -2.95937173e-02,  3.68522406e-02,  5.80347553e-02,\n",
       "        -6.66918010e-02,  1.99460499e-02, -6.76470697e-02,  6.63192570e-02,\n",
       "         7.03084841e-02, -1.20073380e-02, -2.81319190e-02, -5.41426837e-02,\n",
       "         4.89913998e-03, -4.27241176e-02,  5.71595831e-03,  3.22622769e-02,\n",
       "        -4.49759774e-02, -1.69816334e-02,  3.40951197e-02,  6.09736741e-02,\n",
       "         1.69017669e-02, -3.45815085e-02, -4.21386994e-02,  7.32292309e-02,\n",
       "         4.14056964e-02,  9.79096349e-03,  2.84802783e-02, -2.45167073e-02,\n",
       "         2.18786951e-02, -2.08951533e-02, -3.16071697e-02, -1.68134626e-02,\n",
       "         1.00759100e-02, -2.11724937e-02, -4.47666273e-02,  1.13326788e-03,\n",
       "        -5.24000973e-02,  1.01943985e-01, -4.18204255e-02, -4.08316217e-02,\n",
       "         1.66139044e-02,  5.19749448e-02,  4.90134489e-03, -5.97857637e-03,\n",
       "        -4.81622666e-02,  2.72070672e-02,  3.95548902e-02, -4.18690518e-02,\n",
       "        -7.84424786e-03, -6.71577156e-02,  2.91969031e-02, -3.98931541e-02,\n",
       "         5.03341518e-02,  1.98445637e-02, -3.37748826e-02,  4.30624858e-02,\n",
       "        -6.29224330e-02, -2.05170619e-03, -4.39182855e-02, -5.49536310e-02,\n",
       "        -1.86658988e-03, -5.40599488e-02, -8.04512724e-02,  9.46377069e-02,\n",
       "         2.05950774e-02, -1.45079540e-02,  7.32097924e-02,  7.89031982e-02,\n",
       "         8.62987991e-03, -1.58620812e-02,  7.21166432e-02, -5.53824119e-02,\n",
       "        -4.54910994e-02,  5.57119697e-02, -2.94104386e-02, -1.90002173e-02,\n",
       "        -6.37800545e-02, -6.19988292e-02, -9.31326952e-03, -3.79368141e-02,\n",
       "         6.17385609e-03, -1.68661345e-02, -4.57680635e-02,  5.05147763e-02,\n",
       "         3.14393863e-02, -8.85993056e-03, -1.82744667e-01, -6.15071692e-02,\n",
       "        -2.59700790e-03, -2.46484876e-02, -2.70676762e-02,  1.87266722e-01,\n",
       "         2.76939757e-02, -6.47524465e-03, -1.33137554e-02,  9.65228081e-02,\n",
       "        -1.77634023e-02,  2.34919111e-03,  2.42788233e-02,  3.22410986e-02,\n",
       "         6.72686088e-04, -4.31383960e-02, -4.57934896e-03,  6.41262755e-02,\n",
       "         7.19395056e-02,  8.07512552e-02, -1.58021152e-02,  6.48008659e-02,\n",
       "        -5.39964810e-02,  1.08765535e-01,  4.87933420e-02, -5.59634715e-02,\n",
       "         6.53790832e-02, -3.25275473e-02, -4.68187593e-02, -5.99981546e-02,\n",
       "        -2.72840112e-02, -7.31165856e-02,  3.48933935e-02, -2.59634945e-33,\n",
       "         9.51198786e-02,  2.01059505e-02,  4.17216681e-02,  4.09649871e-02,\n",
       "         7.76591524e-02,  2.17945967e-03, -5.35102282e-03,  4.27225226e-04,\n",
       "        -1.03208937e-01,  6.10490777e-02,  5.83647266e-02,  1.21122740e-01,\n",
       "        -2.19082981e-02, -1.97158824e-03, -7.38781989e-02, -4.96961921e-02,\n",
       "         3.81013155e-02,  2.25308258e-02,  1.78496763e-02,  5.46250567e-02,\n",
       "        -2.06652260e-03,  5.24063371e-02,  7.41656171e-03,  2.23073866e-02,\n",
       "        -1.86544955e-02, -4.05559577e-02,  1.91995762e-02, -6.37352243e-02,\n",
       "        -1.48229003e-02,  1.62670133e-03, -4.21777591e-02, -2.55257878e-02,\n",
       "        -1.93726365e-02, -5.86011857e-02, -4.60247472e-02,  9.69385542e-03,\n",
       "        -6.69645518e-02, -3.43012735e-02, -3.79940011e-02,  4.12160531e-02,\n",
       "        -6.88365521e-03, -2.77641993e-02,  2.99083982e-02, -1.31480126e-02,\n",
       "        -1.26592219e-02,  2.28552632e-02,  2.88418531e-02,  5.92999496e-02,\n",
       "         5.90368696e-02, -6.64626295e-03, -7.78538585e-02, -4.34611700e-02,\n",
       "        -2.85097025e-03,  1.90889277e-02, -3.50541286e-02, -4.02379110e-02,\n",
       "         1.33062629e-02,  5.46832383e-03, -7.78491870e-02,  3.39164026e-02,\n",
       "         9.00553241e-02,  6.87257499e-02,  1.77785940e-02, -5.71804419e-02,\n",
       "         1.26427738e-02,  2.84341685e-02,  1.52287669e-02,  3.55945826e-02,\n",
       "        -3.42879035e-02,  1.23682963e-02, -3.33081298e-02,  3.71672679e-03,\n",
       "         1.20168366e-01,  1.67229641e-02, -1.10772774e-02, -2.33266465e-02,\n",
       "        -8.19585170e-04, -2.60907579e-02,  5.88676222e-02, -5.88486250e-03,\n",
       "         3.44448984e-02, -2.27487069e-02, -3.03381998e-02, -2.37748194e-02,\n",
       "        -5.39598847e-03, -2.10365783e-02,  3.42709199e-02, -7.21584111e-02,\n",
       "        -4.25997265e-02,  6.64898148e-03,  4.46237773e-02, -2.69489344e-02,\n",
       "         2.60855556e-02,  1.45818256e-02, -4.83216196e-02,  1.76485508e-33,\n",
       "         6.73929527e-02,  3.43119353e-02, -7.02130422e-02,  1.31395236e-01,\n",
       "         1.05463236e-03, -4.87160258e-04, -2.06739381e-02,  1.07171707e-01,\n",
       "        -2.38901079e-02,  6.14615418e-02,  1.07558452e-01,  6.88938722e-02,\n",
       "        -2.09544804e-02,  6.95096282e-03, -8.97516962e-03,  1.37484688e-02,\n",
       "         2.48587336e-02, -1.00776041e-02, -1.08172551e-01,  3.86195141e-03,\n",
       "         2.90864403e-03, -3.03852409e-02, -4.69337553e-02, -6.42297640e-02,\n",
       "        -6.75160363e-02,  9.26242117e-03,  4.11203168e-02,  6.99911341e-02,\n",
       "         1.01303197e-02, -1.07258772e-02,  7.28920698e-02,  3.23302075e-02,\n",
       "        -1.53307825e-01, -1.21723721e-02,  3.83879431e-02,  1.24633253e-01,\n",
       "         6.80912733e-02, -1.59973130e-02,  7.87522122e-02, -3.93215055e-03,\n",
       "         8.74464121e-03,  2.95997877e-03,  3.91203165e-02,  4.79451381e-02,\n",
       "         1.11337658e-02, -6.74020201e-02,  6.05112985e-02, -4.45736200e-02,\n",
       "        -7.60881007e-02,  4.94202077e-02, -5.26984744e-02,  1.84572991e-02,\n",
       "         7.52622914e-03, -1.13644101e-01, -6.51896968e-02, -2.50854138e-02,\n",
       "         5.20431027e-02, -9.67372395e-03,  6.22266941e-02, -1.45947915e-02,\n",
       "        -5.16775809e-02,  2.38197539e-02, -5.47488481e-02,  2.83759311e-02,\n",
       "         2.38772798e-02,  1.60477720e-02,  4.81454879e-02,  3.11557967e-02,\n",
       "        -4.94612977e-02, -5.39691932e-02, -5.25250621e-02,  2.95792371e-02,\n",
       "        -1.14803098e-01,  1.98425027e-03,  1.05706649e-02, -5.00576422e-02,\n",
       "        -1.14607401e-02,  5.73893730e-03,  1.84408091e-02,  1.72531742e-04,\n",
       "        -6.41412707e-03, -4.49323207e-02, -4.52491753e-02,  2.44525764e-02,\n",
       "         6.48587942e-02, -3.65115851e-02,  7.36649632e-02,  3.44283809e-03,\n",
       "        -5.70261292e-02, -1.51842833e-02, -1.14195302e-01,  5.79470471e-02,\n",
       "        -1.40279131e-02, -8.59022234e-03, -6.97066262e-02, -1.42326018e-08,\n",
       "        -3.63049991e-02, -1.07509056e-02,  3.13973837e-02,  7.24440515e-02,\n",
       "         5.85237890e-02,  1.91860702e-02,  3.87425795e-02, -4.43754978e-02,\n",
       "        -3.16487849e-02,  7.53664598e-02,  6.88154846e-02, -5.03988611e-03,\n",
       "         2.06689611e-02,  8.80976915e-02,  1.96945984e-02, -9.39000547e-02,\n",
       "        -4.64712121e-02,  9.93205160e-02, -4.57832552e-02, -3.64225879e-02,\n",
       "        -5.07938862e-02,  4.50480506e-02,  4.20394577e-02,  2.88885757e-02,\n",
       "         2.17730757e-02,  1.69551140e-03, -5.83423674e-02,  1.25816867e-01,\n",
       "         4.88431342e-02, -8.21199454e-03, -4.74504270e-02,  9.40502360e-02,\n",
       "         2.51280703e-02, -2.94364477e-03,  2.55273301e-02,  1.53479427e-01,\n",
       "        -5.70942461e-02, -6.25594170e-04, -1.01250107e-03, -2.65934970e-02,\n",
       "        -3.48109156e-02, -3.94805633e-02,  7.35995770e-02, -9.32755694e-02,\n",
       "        -1.33258730e-01, -4.17251140e-02,  1.23576401e-02,  6.98683271e-03,\n",
       "         8.13669525e-03, -2.92359851e-02,  2.48052813e-02, -7.29073724e-03,\n",
       "         9.76341739e-02,  5.90583980e-02,  5.82060218e-02,  3.02182510e-02,\n",
       "        -2.79623885e-02, -1.61398277e-02,  8.32899883e-02,  2.50751954e-02,\n",
       "         1.03685923e-01,  1.33708030e-01,  2.68709660e-02,  2.86157243e-02],\n",
       "       dtype=float32)]"
      ]
     },
     "execution_count": 48,
     "metadata": {},
     "output_type": "execute_result"
    }
   ],
   "source": [
    "emb_fun([\"Welcome\"])"
   ]
  },
  {
   "cell_type": "code",
   "execution_count": 47,
   "id": "6a528b01",
   "metadata": {},
   "outputs": [
    {
     "data": {
      "text/plain": [
       "384"
      ]
     },
     "execution_count": 47,
     "metadata": {},
     "output_type": "execute_result"
    }
   ],
   "source": [
    "len(emb_fun([\"Welcome\"])[0])"
   ]
  },
  {
   "cell_type": "code",
   "execution_count": null,
   "id": "db9ffe89",
   "metadata": {},
   "outputs": [],
   "source": []
  }
 ],
 "metadata": {
  "kernelspec": {
   "display_name": ".venv",
   "language": "python",
   "name": "python3"
  },
  "language_info": {
   "codemirror_mode": {
    "name": "ipython",
    "version": 3
   },
   "file_extension": ".py",
   "mimetype": "text/x-python",
   "name": "python",
   "nbconvert_exporter": "python",
   "pygments_lexer": "ipython3",
   "version": "3.12.4"
  }
 },
 "nbformat": 4,
 "nbformat_minor": 5
}
