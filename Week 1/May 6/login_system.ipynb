{
 "cells": [
  {
   "cell_type": "code",
   "execution_count": 4,
   "id": "adcdc90d",
   "metadata": {},
   "outputs": [
    {
     "name": "stdout",
     "output_type": "stream",
     "text": [
      "Welcome to Login System\n",
      "Login successfull! \n",
      " Welcome,  SAM123\n"
     ]
    }
   ],
   "source": [
    "orginal_username=\"sam123\"\n",
    "orginal_password=\"password123\"\n",
    "\n",
    "print(\"Welcome to Login System\")\n",
    "\n",
    "username=input(\"Enter username:\")\n",
    "password=input(\"Enter password: \")\n",
    "\n",
    "if username == orginal_username and password==orginal_password:\n",
    "    print(\"Login successfull! \\n Welcome, \",username.upper())\n",
    "\n",
    "elif username!=orginal_username:\n",
    "    print(\"wrong username\")\n",
    "\n",
    "elif password!=orginal_password:\n",
    "    print(\"wrong password\")"
   ]
  }
 ],
 "metadata": {
  "kernelspec": {
   "display_name": ".venv",
   "language": "python",
   "name": "python3"
  },
  "language_info": {
   "codemirror_mode": {
    "name": "ipython",
    "version": 3
   },
   "file_extension": ".py",
   "mimetype": "text/x-python",
   "name": "python",
   "nbconvert_exporter": "python",
   "pygments_lexer": "ipython3",
   "version": "3.12.4"
  }
 },
 "nbformat": 4,
 "nbformat_minor": 5
}
