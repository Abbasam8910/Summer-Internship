{
 "cells": [
  {
   "cell_type": "code",
   "execution_count": null,
   "id": "adcdc90d",
   "metadata": {},
   "outputs": [],
   "source": [
    "orginal_username=\"sam123\"\n",
    "orginal_password=\"password123\"\n",
    "\n",
    "print(\"Welcome to Login System\")\n",
    "\n",
    "username=input(\"Enter username:\")\n",
    "password=input(\"Enter password: \")\n",
    "\n",
    "if username == orginal_username and password==orginal_password:\n",
    "    print(\"Login successfull!0 Welcome, \",username)\n",
    "\n",
    "elif username!=orginal_username:\n",
    "    print(\"wrong username\")\n",
    "\n",
    "elif"
   ]
  }
 ],
 "metadata": {
  "language_info": {
   "name": "python"
  }
 },
 "nbformat": 4,
 "nbformat_minor": 5
}
