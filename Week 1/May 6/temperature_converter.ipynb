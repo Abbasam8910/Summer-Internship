{
 "cells": [
  {
   "cell_type": "code",
   "execution_count": null,
   "id": "04f105a1",
   "metadata": {},
   "outputs": [],
   "source": [
    "print(\" Temperature Converter (Celsius ↔ Fahrenheit)\")\n",
    "\n",
    "choice=int(input(\"Enter Your Choice:\\n1. for Celsium to Fahrenheit \\n2. for farenheit to celsium\"))\n",
    "\n",
    "if choice==1:\n",
    "    celsium_to_fahrenhet=float(input(\"Enter temperature in celsius:\"))\n",
    "    convert_c_to_fah=(celsium_to_fahrenhet * 9/5) + 32\n",
    "\n",
    "    print(f\"{celsium_to_fahrenhet}°C is equal to {convert_c_to_fah}°F\")  \n",
    "\n",
    "elif choice==2:\n",
    "    fahrenheit_to_celsius=float(input(\"Enter temperature in Farenheit:\"))\n",
    "    convert_f_to_c=(celsium_to_fahrenhet * 9/5) + 32\n",
    "\n",
    "    print(f\"{celsium_to_fahrenhet}°C is equal to {convert_c_to_fah}°F\")  "
   ]
  }
 ],
 "metadata": {
  "kernelspec": {
   "display_name": ".venv",
   "language": "python",
   "name": "python3"
  },
  "language_info": {
   "name": "python",
   "version": "3.12.4"
  }
 },
 "nbformat": 4,
 "nbformat_minor": 5
}
