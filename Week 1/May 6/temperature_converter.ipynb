{
 "cells": [
  {
   "cell_type": "code",
   "execution_count": 1,
   "id": "04f105a1",
   "metadata": {},
   "outputs": [
    {
     "name": "stdout",
     "output_type": "stream",
     "text": [
      " Temperature Converter (Celsius ↔ Fahrenheit)\n",
      "56.0°C is equal to 132.8°F\n"
     ]
    }
   ],
   "source": [
    "print(\" Temperature Converter (Celsius ↔ Fahrenheit)\")\n",
    "\n",
    "choice=int(input(\"Enter Your Choice:\\n1. for Celsium to Fahrenheit \\n2. for farenheit to celsium\"))\n",
    "\n",
    "if choice==1:\n",
    "    celsium_to_fahrenhet=float(input(\"Enter temperature in celsius:\"))\n",
    "    convert_c_to_fah=(celsium_to_fahrenhet * 9/5) + 32\n",
    "\n",
    "    print(f\"{celsium_to_fahrenhet}°C is equal to {convert_c_to_fah}°F\")  \n",
    "\n",
    "elif choice==2:\n",
    "    fahrenheit_to_celsius=float(input(\"Enter temperature in Farenheit:\"))\n",
    "    convert_f_to_c=(fahrenheit_to_celsius - 32) * 5/9\n",
    "\n",
    "    print(f\"{fahrenheit_to_celsius}°F is equal to {convert_f_to_c}°C\")  \n",
    "\n",
    "else:\n",
    "    print(\"Wrong Choice!\")"
   ]
  },
  {
   "cell_type": "code",
   "execution_count": 2,
   "id": "8f48c987",
   "metadata": {},
   "outputs": [
    {
     "name": "stdout",
     "output_type": "stream",
     "text": [
      "Requirement already satisfied: pip in d:\\# my learning\\coding\\summer-internship\\.venv\\lib\\site-packages (25.1.1)\n",
      "Note: you may need to restart the kernel to use updated packages.\n"
     ]
    }
   ],
   "source": [
    "pip install --upgrade pip"
   ]
  }
 ],
 "metadata": {
  "kernelspec": {
   "display_name": ".venv",
   "language": "python",
   "name": "python3"
  },
  "language_info": {
   "codemirror_mode": {
    "name": "ipython",
    "version": 3
   },
   "file_extension": ".py",
   "mimetype": "text/x-python",
   "name": "python",
   "nbconvert_exporter": "python",
   "pygments_lexer": "ipython3",
   "version": "3.12.4"
  }
 },
 "nbformat": 4,
 "nbformat_minor": 5
}
