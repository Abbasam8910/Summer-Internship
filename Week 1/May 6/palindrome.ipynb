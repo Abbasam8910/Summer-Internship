{
 "cells": [
  {
   "cell_type": "code",
   "execution_count": 4,
   "id": "a40482b9",
   "metadata": {},
   "outputs": [
    {
     "name": "stdout",
     "output_type": "stream",
     "text": [
      "Entered string malayalam is palindrome\n"
     ]
    }
   ],
   "source": [
    "orginal=input(\"Enter a string to check palindrome\")\n",
    "\n",
    "org_reverse=orginal[::-1]\n",
    "\n",
    "if orginal ==org_reverse:\n",
    "    print(f\"Entered string {orginal} is palindrome\")\n",
    "else:\n",
    "    print(\"Not palindrome\")"
   ]
  }
 ],
 "metadata": {
  "kernelspec": {
   "display_name": ".venv",
   "language": "python",
   "name": "python3"
  },
  "language_info": {
   "codemirror_mode": {
    "name": "ipython",
    "version": 3
   },
   "file_extension": ".py",
   "mimetype": "text/x-python",
   "name": "python",
   "nbconvert_exporter": "python",
   "pygments_lexer": "ipython3",
   "version": "3.12.4"
  }
 },
 "nbformat": 4,
 "nbformat_minor": 5
}
