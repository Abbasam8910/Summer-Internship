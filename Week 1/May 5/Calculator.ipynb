{
 "cells": [
  {
   "cell_type": "markdown",
   "id": "ddb00615",
   "metadata": {},
   "source": [
    "## Simple Calculator"
   ]
  },
  {
   "cell_type": "code",
   "execution_count": 2,
   "id": "b66f5e65",
   "metadata": {},
   "outputs": [
    {
     "name": "stdout",
     "output_type": "stream",
     "text": [
      "A Simple calculator\n",
      "50.0 + 20.0 = 70.0\n"
     ]
    }
   ],
   "source": [
    "print(\"A Simple calculator\")\n",
    "\n",
    "num1 = float(input(\"Enter First Number:\"))\n",
    "\n",
    "operation=input(\"Choose operation: \\n 1. for addition \\n2. for subtraction \\n3. for mutliplicaiton \\4. for division\")\n",
    "\n",
    "num2=float(input(\"Enter second number:\"))\n",
    "\n",
    "if operation == \"1\":\n",
    "    print(f\"{num1} + {num2} = {num1+num2}\")\n",
    "\n",
    "elif operation == \"2\":\n",
    "    rint(f\"{num1} - {num2} = {num1-num2}\")\n",
    "\n",
    "elif operation == \"3\":  \n",
    "    rint(f\"{num1} * {num2} = {num1*num2}\")\n",
    "\n",
    "elif operation == \"4\":\n",
    "    print(f\"{num1} / {num2} = {num1/num2}\")  \n",
    "\n",
    "else:\n",
    "    print(\"Invalid operation\")\n",
    "\n",
    "    "
   ]
  }
 ],
 "metadata": {
  "kernelspec": {
   "display_name": ".venv",
   "language": "python",
   "name": "python3"
  },
  "language_info": {
   "codemirror_mode": {
    "name": "ipython",
    "version": 3
   },
   "file_extension": ".py",
   "mimetype": "text/x-python",
   "name": "python",
   "nbconvert_exporter": "python",
   "pygments_lexer": "ipython3",
   "version": "3.12.4"
  }
 },
 "nbformat": 4,
 "nbformat_minor": 5
}
