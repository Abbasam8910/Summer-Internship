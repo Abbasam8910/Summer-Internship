{
 "cells": [
  {
   "cell_type": "markdown",
   "id": "7cbc4587",
   "metadata": {},
   "source": [
    "## Fibonacci"
   ]
  },
  {
   "cell_type": "code",
   "execution_count": null,
   "id": "78cdf321",
   "metadata": {},
   "outputs": [],
   "source": [
    "def fibonacci_sequence(n):\n",
    "    a, b = 0, 1\n",
    "    for _ in range(n):\n",
    "        print(a, end=\" \")\n",
    "        a, b = b, a + b\n",
    "\n",
    "# Input: Number of terms\n",
    "n = int(input(\"Enter the number of terms: \"))\n",
    "print(\"Fibonacci sequence:\")\n",
    "fibonacci_sequence(n)"
   ]
  }
 ],
 "metadata": {
  "kernelspec": {
   "display_name": ".venv",
   "language": "python",
   "name": "python3"
  },
  "language_info": {
   "name": "python",
   "version": "3.12.4"
  }
 },
 "nbformat": 4,
 "nbformat_minor": 5
}
