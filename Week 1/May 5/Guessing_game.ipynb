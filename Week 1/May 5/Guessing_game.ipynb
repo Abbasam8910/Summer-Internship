{
 "cells": [
  {
   "cell_type": "markdown",
   "id": "48aff7d6",
   "metadata": {},
   "source": [
    "## Guessing Game"
   ]
  },
  {
   "cell_type": "code",
   "execution_count": 9,
   "id": "b2fb7201",
   "metadata": {},
   "outputs": [
    {
     "name": "stdout",
     "output_type": "stream",
     "text": [
      "Welcome to Gussing Game\n",
      "Guess number is too SMALL\n",
      "Guess number is too BIG\n",
      "Guess number is too BIG\n",
      "Guess number is too SMALL\n",
      "Guess number is too SMALL\n",
      "Guess number is too SMALL\n",
      "Congrats you gussed it corrctly\n"
     ]
    }
   ],
   "source": [
    "import random\n",
    "print(\"Welcome to Gussing Game\")\n",
    "\n",
    "org_num=random.randint(1,100)\n",
    "\n",
    "guess_num=-1\n",
    "\n",
    "while guess_num!=org_num:\n",
    "    guess_num=float(input(\"Enter a number to guess:\"))\n",
    "    if(guess_num>org_num):\n",
    "        print(\"Guess number is too BIG\")\n",
    "    elif(guess_num<org_num):\n",
    "        print(\"Guess number is too SMALL\")\n",
    "\n",
    "\n",
    "print(\"Congrats you gussed it corrctly\")\n",
    "\n",
    "\n"
   ]
  },
  {
   "cell_type": "code",
   "execution_count": null,
   "id": "4ddb10a7",
   "metadata": {},
   "outputs": [],
   "source": []
  }
 ],
 "metadata": {
  "kernelspec": {
   "display_name": ".venv",
   "language": "python",
   "name": "python3"
  },
  "language_info": {
   "codemirror_mode": {
    "name": "ipython",
    "version": 3
   },
   "file_extension": ".py",
   "mimetype": "text/x-python",
   "name": "python",
   "nbconvert_exporter": "python",
   "pygments_lexer": "ipython3",
   "version": "3.12.4"
  }
 },
 "nbformat": 4,
 "nbformat_minor": 5
}
