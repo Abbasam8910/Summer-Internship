{
 "cells": [
  {
   "cell_type": "markdown",
   "id": "47e952a7",
   "metadata": {},
   "source": [
    "- Combining OOP with data processing\n",
    "\n",
    "- Using external libraries (e.g., pandas, matplotlib) for CSV loading and plotting\n",
    "- Structuring code into classes and methods for modularity"
   ]
  },
  {
   "cell_type": "code",
   "execution_count": 1,
   "id": "4b32fecc",
   "metadata": {},
   "outputs": [],
   "source": [
    "import pandas as pd\n",
    "import matplotlib.pyplot as plt"
   ]
  },
  {
   "cell_type": "code",
   "execution_count": null,
   "id": "c10fdefb",
   "metadata": {},
   "outputs": [],
   "source": [
    "class DataAnalyzer:\n",
    "    def __init__(self, csv_file):\n",
    "        self.data=pd.read_csv(csv_file)\n",
    "\n",
    "    def process_data(self):\n",
    "        if 'value' in self.data.coloumn:\n",
    "            self.mean_value=self.data['value'].mean()\n",
    "            return self.mean_value\n",
    "        return None\n",
    "\n",
    "    \n",
    "    def plot_data(self):\n",
    "        if 'value' in self.data.coloumn:\n",
    "            self.data['value'].plot(kind='line')\n",
    "            plt.tilte('value over index')\n",
    "            plt.xlabel('Index')\n",
    "            plt.ylabel(\"value\")\n",
    "            plt.show()\n",
    "\n",
    "        else:\n",
    "            print(\"Coloumn 'value' not found in data\")\n",
    "\n",
    "\n",
    "analyzer = DataAnalyzer('data.csv')\n",
    "print(analyzer.process_data())\n",
    "analyzer.plot_data()"
   ]
  }
 ],
 "metadata": {
  "kernelspec": {
   "display_name": ".venv",
   "language": "python",
   "name": "python3"
  },
  "language_info": {
   "codemirror_mode": {
    "name": "ipython",
    "version": 3
   },
   "file_extension": ".py",
   "mimetype": "text/x-python",
   "name": "python",
   "nbconvert_exporter": "python",
   "pygments_lexer": "ipython3",
   "version": "3.12.4"
  }
 },
 "nbformat": 4,
 "nbformat_minor": 5
}
