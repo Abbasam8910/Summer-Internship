{
 "cells": [
  {
   "cell_type": "markdown",
   "id": "56cfc552",
   "metadata": {},
   "source": [
    "- Creating classes and instances\n",
    "\n",
    "- Defining attributes (e.g., balance)\n",
    "\n",
    "- Defining methods (e.g., deposit, withdraw)\n",
    "\n",
    "- Using the constructor __init__ to initialize attributes"
   ]
  },
  {
   "cell_type": "code",
   "execution_count": 2,
   "id": "88e0b2a0",
   "metadata": {},
   "outputs": [
    {
     "name": "stdout",
     "output_type": "stream",
     "text": [
      "Deposited 500. New balance is 2500.\n",
      "Withdraw 1000. New balance is 1500.\n",
      "1500\n"
     ]
    }
   ],
   "source": [
    "class BankAccount:\n",
    "    def __init__(self, initial_balance=0):\n",
    "        self.balance = initial_balance\n",
    "    \n",
    "\n",
    "    def deposit(self, amount):\n",
    "        if amount>0:\n",
    "            self.balance +=amount\n",
    "            return f\"Deposited {amount}. New balance is {self.balance}.\"\n",
    "        return \"Deposit amount must be positive\"\n",
    "    \n",
    "    def withdraw(self, amount):\n",
    "        if amount>0:\n",
    "            if amount<=self.balance:\n",
    "                self.balance-=amount\n",
    "                return f\"Withdraw {amount}. New balance is {self.balance}.\"\n",
    "            else:\n",
    "                return \"Insufficient Funds.\"\n",
    "        return \"withdrawal amount must be positive\"\n",
    "    \n",
    "    def get_balance(self):\n",
    "        return self.balance\n",
    "    \n",
    "account = BankAccount(2000)\n",
    "\n",
    "print(account.deposit(500))\n",
    "\n",
    "print(account.withdraw(1000))\n",
    "\n",
    "print(account.get_balance())"
   ]
  }
 ],
 "metadata": {
  "kernelspec": {
   "display_name": ".venv",
   "language": "python",
   "name": "python3"
  },
  "language_info": {
   "codemirror_mode": {
    "name": "ipython",
    "version": 3
   },
   "file_extension": ".py",
   "mimetype": "text/x-python",
   "name": "python",
   "nbconvert_exporter": "python",
   "pygments_lexer": "ipython3",
   "version": "3.12.4"
  }
 },
 "nbformat": 4,
 "nbformat_minor": 5
}
