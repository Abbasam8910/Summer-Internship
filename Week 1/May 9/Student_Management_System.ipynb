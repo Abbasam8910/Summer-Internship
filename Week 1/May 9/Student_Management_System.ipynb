{
 "cells": [
  {
   "cell_type": "markdown",
   "id": "87f344a6",
   "metadata": {},
   "source": [
    "-Creating classes to represent entities (e.g., Student)\n",
    "\n",
    "-Managing collections of objects (e.g., list of students)\n",
    "\n",
    "-Methods to add, remove, and search within the class"
   ]
  },
  {
   "cell_type": "code",
   "execution_count": 14,
   "id": "a92ddd5d",
   "metadata": {},
   "outputs": [
    {
     "name": "stdout",
     "output_type": "stream",
     "text": [
      "Student Sam added.\n",
      "Student Rahul added.\n",
      "Student Vijay added.\n",
      "Studnet(ID: 2, Name: Rahul)\n",
      "Student Rahul removed.\n",
      "None\n"
     ]
    }
   ],
   "source": [
    "class student:\n",
    "    def __init__(self, student_id, name):\n",
    "        self.student_id = student_id\n",
    "        self.name=name\n",
    "    def __repr__(self):\n",
    "        return f\"Studnet(ID: {self.student_id}, Name: {self.name})\"\n",
    "\n",
    "class Student_Management_System:\n",
    "    def __init__(self):\n",
    "        self.student=[]\n",
    "\n",
    "    def add_student(self, student_id, name):\n",
    "        if self.search_student(student_id) is None:\n",
    "            self.student.append(student(student_id, name))\n",
    "            return f\"Student {name} added.\"\n",
    "        return \"Student with this ID already exist\"\n",
    "\n",
    "    \n",
    "    def remove_student(self, student_id):\n",
    "        student= self.search_student(student_id)\n",
    "        if student:\n",
    "            self.student.remove(student)\n",
    "            return f\"Student {student.name} removed.\"\n",
    "        return \"Studnet not found.\"\n",
    "\n",
    "    def search_student(self, student_id):\n",
    "        for student in self.student:\n",
    "            if student.student_id == student_id:\n",
    "                return student\n",
    "        return None\n",
    "\n",
    "    \n",
    "sms = Student_Management_System()\n",
    "\n",
    "print(sms.add_student(1, \"Sam\"))\n",
    "\n",
    "print(sms.add_student(2, \"Rahul\"))\n",
    "\n",
    "print(sms.add_student(3, \"Vijay\"))\n",
    "\n",
    "print(sms.search_student(2))\n",
    "\n",
    "print(sms.remove_student(2))\n",
    "print(sms.search_student(2))\n",
    "\n"
   ]
  },
  {
   "cell_type": "code",
   "execution_count": null,
   "id": "9f4880b1",
   "metadata": {},
   "outputs": [],
   "source": []
  }
 ],
 "metadata": {
  "kernelspec": {
   "display_name": ".venv",
   "language": "python",
   "name": "python3"
  },
  "language_info": {
   "codemirror_mode": {
    "name": "ipython",
    "version": 3
   },
   "file_extension": ".py",
   "mimetype": "text/x-python",
   "name": "python",
   "nbconvert_exporter": "python",
   "pygments_lexer": "ipython3",
   "version": "3.12.4"
  }
 },
 "nbformat": 4,
 "nbformat_minor": 5
}
