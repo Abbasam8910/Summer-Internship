{
 "cells": [
  {
   "cell_type": "markdown",
   "id": "6967323b",
   "metadata": {},
   "source": [
    "Build a contact book using a dictionary and save/load from a file"
   ]
  },
  {
   "cell_type": "code",
   "execution_count": 1,
   "id": "7f8c0131",
   "metadata": {},
   "outputs": [
    {
     "name": "stdout",
     "output_type": "stream",
     "text": [
      "\n",
      "Contact Book\n",
      "1. Add Contact\n",
      "2. View Contacts\n",
      "3. Save & Exit\n",
      "Contact 'Sam' added.\n",
      "\n",
      "Contact Book\n",
      "1. Add Contact\n",
      "2. View Contacts\n",
      "3. Save & Exit\n",
      "Sam: Phone: 123, Email: abc@gmail.com\n",
      "\n",
      "Contact Book\n",
      "1. Add Contact\n",
      "2. View Contacts\n",
      "3. Save & Exit\n",
      "Contacts saved. Goodbye!\n"
     ]
    }
   ],
   "source": [
    "import json\n",
    "import os\n",
    "\n",
    "CONTACTS_FILE = 'contacts.json'\n",
    "\n",
    "def load_contacts():\n",
    "    if os.path.exists(CONTACTS_FILE):\n",
    "        with open(CONTACTS_FILE, 'r') as f:\n",
    "            return json.load(f)\n",
    "    return {}\n",
    "\n",
    "def save_contacts(contacts):\n",
    "    with open(CONTACTS_FILE, 'w') as f:\n",
    "        json.dump(contacts, f, indent=4)\n",
    "\n",
    "def add_contact(contacts):\n",
    "    name = input(\"Enter name: \").strip()\n",
    "    phone = input(\"Enter phone: \").strip()\n",
    "    email = input(\"Enter email: \").strip()\n",
    "    contacts[name] = {\"phone\": phone, \"email\": email}\n",
    "    print(f\"Contact '{name}' added.\")\n",
    "\n",
    "def view_contacts(contacts):\n",
    "    if not contacts:\n",
    "        print(\"No contacts found.\")\n",
    "    for name, info in contacts.items():\n",
    "        print(f\"{name}: Phone: {info['phone']}, Email: {info['email']}\")\n",
    "\n",
    "def main():\n",
    "    contacts = load_contacts()\n",
    "    while True:\n",
    "        print(\"\\nContact Book\")\n",
    "        print(\"1. Add Contact\")\n",
    "        print(\"2. View Contacts\")\n",
    "        print(\"3. Save & Exit\")\n",
    "        choice = input(\"Choose an option: \")\n",
    "        \n",
    "        if choice == '1':\n",
    "            add_contact(contacts)\n",
    "        elif choice == '2':\n",
    "            view_contacts(contacts)\n",
    "        elif choice == '3':\n",
    "            save_contacts(contacts)\n",
    "            print(\"Contacts saved. Goodbye!\")\n",
    "            break\n",
    "        else:\n",
    "            print(\"Invalid choice. Please try again.\")\n",
    "\n",
    "if __name__ == '__main__':\n",
    "    main()\n"
   ]
  }
 ],
 "metadata": {
  "kernelspec": {
   "display_name": ".venv",
   "language": "python",
   "name": "python3"
  },
  "language_info": {
   "codemirror_mode": {
    "name": "ipython",
    "version": 3
   },
   "file_extension": ".py",
   "mimetype": "text/x-python",
   "name": "python",
   "nbconvert_exporter": "python",
   "pygments_lexer": "ipython3",
   "version": "3.12.4"
  }
 },
 "nbformat": 4,
 "nbformat_minor": 5
}
