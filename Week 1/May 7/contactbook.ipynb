{
 "cells": [
  {
   "cell_type": "markdown",
   "id": "6967323b",
   "metadata": {},
   "source": [
    "Build a contact book using a dictionary and save/load from a file"
   ]
  },
  {
   "cell_type": "code",
   "execution_count": null,
   "id": "7f8c0131",
   "metadata": {},
   "outputs": [],
   "source": []
  }
 ],
 "metadata": {
  "kernelspec": {
   "display_name": ".venv",
   "language": "python",
   "name": "python3"
  },
  "language_info": {
   "name": "python",
   "version": "3.12.4"
  }
 },
 "nbformat": 4,
 "nbformat_minor": 5
}
