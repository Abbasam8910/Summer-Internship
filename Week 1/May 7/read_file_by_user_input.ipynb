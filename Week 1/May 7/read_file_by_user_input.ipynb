{
 "cells": [
  {
   "cell_type": "markdown",
   "id": "06b6dcc8",
   "metadata": {},
   "source": [
    "Save user input to a file and read it back"
   ]
  },
  {
   "cell_type": "code",
   "execution_count": 5,
   "id": "f9da3354",
   "metadata": {},
   "outputs": [],
   "source": [
    "from collections import Counter"
   ]
  },
  {
   "cell_type": "code",
   "execution_count": 7,
   "id": "0c98fc10",
   "metadata": {},
   "outputs": [
    {
     "name": "stdout",
     "output_type": "stream",
     "text": [
      "Hi: 1\n",
      "all: 2\n",
      "welcome: 2\n",
      "to: 1\n",
      "our: 1\n",
      "latest: 1\n",
      "game: 1\n"
     ]
    }
   ],
   "source": [
    "user_input=input(\"Enter a sentence:\")\n",
    "file_path=\"./output.txt\"\n",
    "with open(file_path, 'w', encoding='utf-8') as file:\n",
    "    file.write(user_input)\n",
    "\n",
    "\n",
    "\n",
    "with open(file_path, encoding='utf-8',) as file:\n",
    "    text=file.read()\n",
    "    words=text.split() #split by whitespace\n",
    "    word_counter=Counter(words)\n",
    "\n",
    "\n",
    "for word, count in word_counter.items():\n",
    "    print(f\"{word}: {count}\")\n"
   ]
  }
 ],
 "metadata": {
  "kernelspec": {
   "display_name": ".venv",
   "language": "python",
   "name": "python3"
  },
  "language_info": {
   "codemirror_mode": {
    "name": "ipython",
    "version": 3
   },
   "file_extension": ".py",
   "mimetype": "text/x-python",
   "name": "python",
   "nbconvert_exporter": "python",
   "pygments_lexer": "ipython3",
   "version": "3.12.4"
  }
 },
 "nbformat": 4,
 "nbformat_minor": 5
}
