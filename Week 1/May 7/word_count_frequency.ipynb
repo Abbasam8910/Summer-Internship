{
 "cells": [
  {
   "cell_type": "markdown",
   "id": "a4c852c4",
   "metadata": {},
   "source": [
    "Read a text file and count word frequency"
   ]
  },
  {
   "cell_type": "code",
   "execution_count": 1,
   "id": "f51df591",
   "metadata": {},
   "outputs": [],
   "source": [
    "from collections import Counter"
   ]
  },
  {
   "cell_type": "code",
   "execution_count": null,
   "id": "4433a1f0",
   "metadata": {},
   "outputs": [],
   "source": [
    "file_path=\"./sample.txt\"\n",
    "with open(file_path, encoding='utf-8',) as file:\n",
    "    text=file.read()\n",
    "    words=text.split() #split by whitespace\n",
    "    word_counter=Counter(words)\n",
    "\n",
    "\n",
    "for word, count in word_counter.items():\n",
    "    pirn"
   ]
  }
 ],
 "metadata": {
  "kernelspec": {
   "display_name": ".venv",
   "language": "python",
   "name": "python3"
  },
  "language_info": {
   "codemirror_mode": {
    "name": "ipython",
    "version": 3
   },
   "file_extension": ".py",
   "mimetype": "text/x-python",
   "name": "python",
   "nbconvert_exporter": "python",
   "pygments_lexer": "ipython3",
   "version": "3.12.4"
  }
 },
 "nbformat": 4,
 "nbformat_minor": 5
}
