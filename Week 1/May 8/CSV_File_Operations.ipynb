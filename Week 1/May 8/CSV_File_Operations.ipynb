{
 "cells": [
  {
   "cell_type": "code",
   "execution_count": 4,
   "id": "a5074aeb",
   "metadata": {},
   "outputs": [],
   "source": [
    "import numpy as np\n",
    "import pandas as pd\n"
   ]
  },
  {
   "cell_type": "code",
   "execution_count": 5,
   "id": "d485a5f6",
   "metadata": {},
   "outputs": [
    {
     "name": "stdout",
     "output_type": "stream",
     "text": [
      "{'product_name': ['A', 'B', 'C', 'D'], 'Price': [300, 2500, 760, 800], 'Quantity': [23, 50, 80, 10]}\n"
     ]
    }
   ],
   "source": [
    "# Dummy data\n",
    "sales_data={\n",
    "    'product_name':['A','B','C','D'],\n",
    "    'Price':[300,2500,760,800],\n",
    "    'Quantity':[23,50,80,10]\n",
    "}\n",
    "\n",
    "print(sales_data)"
   ]
  },
  {
   "cell_type": "code",
   "execution_count": 6,
   "id": "09d8b38a",
   "metadata": {},
   "outputs": [
    {
     "name": "stdout",
     "output_type": "stream",
     "text": [
      "  product_name  Price  Quantity\n",
      "0            A    300        23\n",
      "1            B   2500        50\n",
      "2            C    760        80\n",
      "3            D    800        10\n"
     ]
    }
   ],
   "source": [
    "# Dataframe\n",
    "\n",
    "df=pd.DataFrame(sales_data)\n",
    "\n",
    "print(df)"
   ]
  },
  {
   "cell_type": "markdown",
   "id": "9a03d699",
   "metadata": {},
   "source": [
    "Pandas operations"
   ]
  },
  {
   "cell_type": "code",
   "execution_count": 7,
   "id": "060eddf9",
   "metadata": {},
   "outputs": [
    {
     "name": "stdout",
     "output_type": "stream",
     "text": [
      "<class 'pandas.core.frame.DataFrame'>\n",
      "RangeIndex: 4 entries, 0 to 3\n",
      "Data columns (total 3 columns):\n",
      " #   Column        Non-Null Count  Dtype \n",
      "---  ------        --------------  ----- \n",
      " 0   product_name  4 non-null      object\n",
      " 1   Price         4 non-null      int64 \n",
      " 2   Quantity      4 non-null      int64 \n",
      "dtypes: int64(2), object(1)\n",
      "memory usage: 228.0+ bytes\n",
      "None\n"
     ]
    }
   ],
   "source": [
    "#Info\n",
    "\n",
    "print(df.info())"
   ]
  },
  {
   "cell_type": "code",
   "execution_count": 9,
   "id": "791f640b",
   "metadata": {},
   "outputs": [
    {
     "name": "stdout",
     "output_type": "stream",
     "text": [
      "             Price   Quantity\n",
      "count     4.000000   4.000000\n",
      "mean   1090.000000  40.750000\n",
      "std     966.988452  31.020155\n",
      "min     300.000000  10.000000\n",
      "25%     645.000000  19.750000\n",
      "50%     780.000000  36.500000\n",
      "75%    1225.000000  57.500000\n",
      "max    2500.000000  80.000000\n"
     ]
    }
   ],
   "source": [
    "# Describe\n",
    "\n",
    "print(df.describe())"
   ]
  },
  {
   "cell_type": "code",
   "execution_count": 10,
   "id": "472d8485",
   "metadata": {},
   "outputs": [
    {
     "name": "stdout",
     "output_type": "stream",
     "text": [
      "  product_name  Price  Quantity\n",
      "0            A    300        23\n",
      "1            B   2500        50\n"
     ]
    }
   ],
   "source": [
    "# First 2 rows\n",
    "\n",
    "print(df.head(2))"
   ]
  },
  {
   "cell_type": "code",
   "execution_count": 12,
   "id": "daf05838",
   "metadata": {},
   "outputs": [
    {
     "name": "stdout",
     "output_type": "stream",
     "text": [
      "  product_name  Price  Quantity\n",
      "2            C    760        80\n",
      "3            D    800        10\n"
     ]
    }
   ],
   "source": [
    "# Last 2 rows\n",
    "\n",
    "\n",
    "print(df.tail(2))"
   ]
  },
  {
   "cell_type": "code",
   "execution_count": 19,
   "id": "d7fcbb0d",
   "metadata": {},
   "outputs": [
    {
     "name": "stdout",
     "output_type": "stream",
     "text": [
      "Printing Price in  ascending order:\n",
      "    product_name  Price  Quantity\n",
      "0            A    300        23\n",
      "2            C    760        80\n",
      "3            D    800        10\n",
      "1            B   2500        50\n",
      "-------------------------------------\n",
      "Printing Price in Descneding order:\n",
      "   product_name  Price  Quantity\n",
      "1            B   2500        50\n",
      "3            D    800        10\n",
      "2            C    760        80\n",
      "0            A    300        23\n"
     ]
    }
   ],
   "source": [
    "# Sorting\n",
    "\n",
    "print(\"Printing Price in  ascending order:\\n \",df.sort_values(by='Price')) # sorting ascending order\n",
    "\n",
    "print(\"-------------------------------------\")\n",
    "\n",
    "print(\"Printing Price in Descneding order:\\n\",df.sort_values(by='Price',ascending=False))"
   ]
  },
  {
   "cell_type": "code",
   "execution_count": 21,
   "id": "24f0b9e5",
   "metadata": {},
   "outputs": [
    {
     "name": "stdout",
     "output_type": "stream",
     "text": [
      "Products with price more than 800\n",
      "   product_name  Price  Quantity\n",
      "1            B   2500        50\n"
     ]
    }
   ],
   "source": [
    "# Filtering\n",
    "\n",
    "print(\"Products with price more than 800\\n\",df[df['Price']>800])"
   ]
  },
  {
   "cell_type": "code",
   "execution_count": 22,
   "id": "d995ab97",
   "metadata": {},
   "outputs": [
    {
     "name": "stdout",
     "output_type": "stream",
     "text": [
      "  product_name  Price  Quantity  Total_revenue\n",
      "0            A    300        23           6900\n",
      "1            B   2500        50         125000\n",
      "2            C    760        80          60800\n",
      "3            D    800        10           8000\n"
     ]
    }
   ],
   "source": [
    "# Adding new coloumn\n",
    "\n",
    "df['Total_revenue']=df['Price']*df['Quantity']\n",
    "\n",
    "print(df)"
   ]
  },
  {
   "cell_type": "markdown",
   "id": "495584a5",
   "metadata": {},
   "source": [
    "Ploting a simple bar chart of price by product"
   ]
  },
  {
   "cell_type": "code",
   "execution_count": 24,
   "id": "cda458d9",
   "metadata": {},
   "outputs": [],
   "source": [
    "import matplotlib.pyplot as plt\n"
   ]
  },
  {
   "cell_type": "code",
   "execution_count": 26,
   "id": "e1481e2f",
   "metadata": {},
   "outputs": [
    {
     "data": {
      "image/png": "[encoded data removed]",
      "text/plain": [
       "<Figure size 640x480 with 1 Axes>"
      ]
     },
     "metadata": {},
     "output_type": "display_data"
    }
   ],
   "source": [
    "plt.bar(df['product_name'],df['Price'], color='blue')\n",
    "plt.xlabel('Product_Name')\n",
    "plt.ylabel('Price')\n",
    "plt.title('Price by Product')\n",
    "plt.show()"
   ]
  },
  {
   "cell_type": "markdown",
   "id": "a6cda5c3",
   "metadata": {},
   "source": [
    "Calculating mean, median, and standard deviation"
   ]
  },
  {
   "cell_type": "code",
   "execution_count": 27,
   "id": "4fdd417d",
   "metadata": {},
   "outputs": [
    {
     "name": "stdout",
     "output_type": "stream",
     "text": [
      "Mean price is :  1090.0\n",
      "Median of price:  780.0\n",
      "Standard Deviation of price is : 837.4365647617734\n"
     ]
    }
   ],
   "source": [
    "mean_price=np.mean(df['Price'])\n",
    "median_price=np.median(df['Price'])\n",
    "std_price=np.std(df['Price'])\n",
    "\n",
    "print(\"Mean price is : \",mean_price)\n",
    "print(\"Median of price: \",median_price)\n",
    "print(\"Standard Deviation of price is :\",std_price)"
   ]
  },
  {
   "cell_type": "code",
   "execution_count": null,
   "id": "866220db",
   "metadata": {},
   "outputs": [],
   "source": []
  }
 ],
 "metadata": {
  "kernelspec": {
   "display_name": ".venv",
   "language": "python",
   "name": "python3"
  },
  "language_info": {
   "codemirror_mode": {
    "name": "ipython",
    "version": 3
   },
   "file_extension": ".py",
   "mimetype": "text/x-python",
   "name": "python",
   "nbconvert_exporter": "python",
   "pygments_lexer": "ipython3",
   "version": "3.12.4"
  }
 },
 "nbformat": 4,
 "nbformat_minor": 5
}
